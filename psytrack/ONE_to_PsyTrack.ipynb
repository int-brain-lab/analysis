{
 "cells": [
  {
   "cell_type": "markdown",
   "metadata": {},
   "source": [
    "# Initialization"
   ]
  },
  {
   "cell_type": "code",
   "execution_count": 1,
   "metadata": {
    "ExecuteTime": {
     "end_time": "2020-03-25T21:27:38.629166Z",
     "start_time": "2020-03-25T21:27:38.566253Z"
    }
   },
   "outputs": [],
   "source": [
    "%matplotlib inline\n",
    "%load_ext autoreload\n",
    "%autoreload 2\n",
    "\n",
    "import numpy as np\n",
    "from matplotlib import pyplot as plt\n",
    "import os\n",
    "import pandas as pd\n",
    "import psytrack as psy\n",
    "import re\n",
    "\n",
    "# Set matplotlib defaults from making files editable and consistent in Illustrator\n",
    "colors = psy.COLORS\n",
    "plt.rcParams['figure.dpi'] = 140\n",
    "plt.rcParams['savefig.dpi'] = 300\n",
    "plt.rcParams['savefig.facecolor'] = (1,1,1,0)\n",
    "plt.rcParams['savefig.bbox'] = \"tight\"\n",
    "plt.rcParams['font.size'] = 10\n",
    "plt.rcParams['font.family'] = 'sans-serif'\n",
    "plt.rcParams['font.sans-serif'] = 'Helvetica'\n",
    "plt.rcParams['pdf.fonttype'] = 42\n",
    "plt.rcParams['xtick.labelsize'] = 10\n",
    "plt.rcParams['ytick.labelsize'] = 10\n",
    "plt.rcParams['axes.labelsize'] = 12\n",
    "\n",
    "# Set save path for all figures\n",
    "spath = \"\""
   ]
  },
  {
   "cell_type": "markdown",
   "metadata": {},
   "source": [
    "# Download and process IBL data\n",
    "\n",
    "Download the IBL dataset (v4, uploaded Jan 25, 2020):\n",
    "\n",
    "https://figshare.com/articles/A_standardized_and_reproducible_method_to_measure_decision-making_in_mice_Data/11636748\n",
    "\n",
    "Update the `ibl_data_path` to where the `ibl-behavioral-data-Dec2019` directory exists on your computer."
   ]
  },
  {
   "cell_type": "code",
   "execution_count": 3,
   "metadata": {
    "ExecuteTime": {
     "end_time": "2020-03-25T21:27:53.526720Z",
     "start_time": "2020-03-25T21:27:53.488134Z"
    }
   },
   "outputs": [],
   "source": [
    "ibl_data_path = '/Users/urai/Data/ibl-behavioral-data-Dec2019/'  ## CHANGE THIS\n",
    "\n",
    "bad_mice = [\"CSHL_002\", \"DY_009\", \"DY_010\", \"DY_011\",\n",
    "            \"ZM_1084\", \"ZM_1367\", \"ZM_1369\", \"ZM_1371\", \"ZM_1372\", \"ZM_1743\"]\n",
    "# CSHL_002 had negative values for it's rightContrast\n",
    "# DY_009, DY_010, DY_011 have <5000 trials total\n",
    "# ZM_1084 has feedbackType=0\n",
    "# ZM_1367, ZM_1369, ZM_1371, ZM_1372, and ZM_1743 have contrast values of 0.04 and 0.08\n"
   ]
  },
  {
   "cell_type": "code",
   "execution_count": 4,
   "metadata": {
    "ExecuteTime": {
     "end_time": "2020-03-25T21:28:24.953006Z",
     "start_time": "2020-03-25T21:27:57.343156Z"
    },
    "scrolled": false
   },
   "outputs": [],
   "source": [
    "import os\n",
    "from oneibl.onelight import ONE\n",
    "import pandas as pd\n",
    "\n",
    "os.chdir(ibl_data_path)\n",
    "\n",
    "# Search all sessions that have these dataset types.\n",
    "required_vars = ['_ibl_trials.choice', '_ibl_trials.contrastLeft',\n",
    "                 '_ibl_trials.contrastRight','_ibl_trials.feedbackType']\n",
    "one = ONE()\n",
    "eids = one.search(required_vars)\n",
    "\n",
    "mouseData = pd.DataFrame()\n",
    "for eid in eids:\n",
    "    lab, _, subject, date, session = eid.split(\"/\")    \n",
    "    sess_vars = {\n",
    "        \"eid\": eid,\n",
    "        \"lab\": lab,\n",
    "        \"subject\": subject,\n",
    "        \"date\": date,\n",
    "        \"session\": session,\n",
    "    }\n",
    "    mouseData = mouseData.append(sess_vars, sort=True, ignore_index=True)\n"
   ]
  },
  {
   "cell_type": "code",
   "execution_count": 5,
   "metadata": {
    "ExecuteTime": {
     "end_time": "2020-03-25T21:39:11.801177Z",
     "start_time": "2020-03-25T21:29:11.185142Z"
    }
   },
   "outputs": [
    {
     "name": "stdout",
     "output_type": "stream",
     "text": [
      "Processing  IBL-T1\n",
      "Processing  IBL-T2\n",
      "Processing  IBL-T3\n",
      "Processing  IBL-T4\n",
      "Processing  NYU-01\n",
      "Processing  NYU-02\n",
      "Processing  NYU-04\n",
      "Processing  NYU-06\n",
      "Processing  NYU-07\n",
      "Processing  NYU-09\n",
      "Processing  NYU-12\n",
      "Processing  NYU-13\n",
      "Processing  CSHL049\n",
      "Processing  CSHL_001\n",
      "Processing  CSHL_003\n",
      "Processing  CSHL_004\n",
      "Processing  CSHL_005\n",
      "Processing  CSHL_006\n",
      "Processing  CSHL_007\n",
      "Processing  CSHL_008\n",
      "Processing  CSHL_010\n",
      "Processing  CSHL_012\n",
      "Processing  CSHL_014\n",
      "Processing  CSHL_015\n",
      "Processing  KS002\n",
      "Processing  KS003\n",
      "Processing  KS004\n",
      "Processing  KS005\n",
      "Processing  KS014\n",
      "Processing  KS015\n",
      "Processing  KS016\n",
      "Processing  KS017\n",
      "Processing  KS018\n",
      "Processing  KS019\n",
      "Processing  KS020\n",
      "Processing  KS021\n",
      "Processing  KS022\n",
      "Processing  KS023\n",
      "Processing  KS024\n",
      "Processing  KS025\n",
      "Processing  DY_001\n",
      "Processing  DY_002\n",
      "Processing  DY_003\n",
      "Processing  DY_005\n",
      "Processing  DY_006\n",
      "Processing  DY_007\n",
      "Processing  SWC_001\n",
      "Processing  SWC_012\n",
      "Processing  SWC_013\n",
      "Processing  SWC_014\n",
      "Processing  SWC_015\n",
      "Processing  SWC_021\n",
      "Processing  ZM_1085\n",
      "Processing  ZM_1086\n",
      "Processing  ZM_1087\n",
      "Processing  ZM_1089\n",
      "Processing  ZM_1091\n",
      "Processing  ZM_1092\n",
      "Processing  ZM_1093\n",
      "Processing  ZM_1095\n",
      "Processing  ZM_1097\n",
      "Processing  ZM_1098\n",
      "Processing  ZM_1373\n",
      "Processing  ZM_1745\n",
      "Processing  ZM_1746\n",
      "Processing  IBL_001\n",
      "Processing  IBL_002\n",
      "Processing  SWC_008\n",
      "Processing  SWC_017\n",
      "Processing  SWC_018\n",
      "Processing  SWC_022\n",
      "Processing  SWC_023\n",
      "Processing  ibl_witten_02\n",
      "Processing  ibl_witten_03\n",
      "Processing  ibl_witten_04\n",
      "Processing  ibl_witten_05\n",
      "Processing  ibl_witten_06\n",
      "Processing  ibl_witten_07\n",
      "Processing  ibl_witten_12\n",
      "Processing  ibl_witten_13\n",
      "Processing  ibl_witten_14\n",
      "Processing  ibl_witten_15\n",
      "Processing  ibl_witten_16\n",
      "Processing  CSH_ZAD_001\n",
      "Processing  CSH_ZAD_002\n",
      "Processing  CSH_ZAD_003\n",
      "Processing  CSH_ZAD_004\n",
      "Processing  CSH_ZAD_005\n",
      "Processing  CSH_ZAD_006\n",
      "Processing  CSH_ZAD_007\n",
      "Processing  CSH_ZAD_010\n"
     ]
    }
   ],
   "source": [
    "all_vars = [\"contrastLeft\", \"contrastRight\", \"choice\", \"feedbackType\", \"probabilityLeft\"]\n",
    "df = pd.DataFrame()\n",
    "\n",
    "for s in mouseData[\"subject\"].unique():\n",
    "    if s in bad_mice: continue\n",
    "    print(\"Processing \", s)\n",
    "    mouse = mouseData[mouseData[\"subject\"]==s].sort_values(['date', 'session']).reset_index()\n",
    "    for i, row in mouse.iterrows():\n",
    "        myVars = {}\n",
    "        for v in all_vars:\n",
    "            filename = \"_ibl_trials.\" + v + \".npy\"\n",
    "            var_file = os.path.join(ibl_data_path, row.eid, \"alf\", filename)\n",
    "            myVars[v] = list(np.load(var_file).flatten())\n",
    "\n",
    "        num_trials = len(myVars[v])\n",
    "        myVars['lab'] = [row.lab]*num_trials\n",
    "        myVars['subject'] = [row.subject]*num_trials\n",
    "        myVars['date'] = [row.date]*num_trials\n",
    "        myVars['session'] = [row.session]*num_trials\n",
    "\n",
    "        df = df.append(pd.DataFrame(myVars, columns=myVars.keys()),\n",
    "                       ignore_index=True)\n",
    "\n",
    "df = df[~np.in1d(df['subject'], bad_mice)]\n",
    "df = df[df['choice'] != 0]\n",
    "df = df.groupby(['subject', 'date', 'session']).filter(lambda x: len(x) >= 50)\n",
    "df.loc[np.isnan(df['contrastLeft']), \"contrastLeft\"] = 0\n",
    "df.loc[np.isnan(df['contrastRight']), \"contrastRight\"] = 0\n",
    "df[\"answer\"] = df[\"feedbackType\"] * df[\"choice\"]\n",
    "df.loc[df[\"answer\"]==-1, \"answer\"] = 2\n",
    "df.loc[df[\"feedbackType\"]==-1, \"feedbackType\"] = 0\n",
    "df.loc[df[\"choice\"]==-1, \"choice\"] = 2\n",
    "df.to_pickle(\"ibl_processed.pkl\")"
   ]
  },
  {
   "cell_type": "code",
   "execution_count": 6,
   "metadata": {
    "ExecuteTime": {
     "end_time": "2020-03-25T21:39:12.461910Z",
     "start_time": "2020-03-25T21:39:11.803706Z"
    }
   },
   "outputs": [
    {
     "name": "stdout",
     "output_type": "stream",
     "text": [
      "contrastLeft:  [0.     0.0625 0.125  0.25   0.5    1.    ]\n",
      "contrastRight:  [0.     0.0625 0.125  0.25   0.5    1.    ]\n",
      "choice:  [1 2]\n",
      "feedbackType:  [0 1]\n",
      "answer:  [1 2]\n"
     ]
    }
   ],
   "source": [
    "# Sanity Checks:\n",
    "print(\"contrastLeft: \", np.unique(df['contrastLeft']))  # [0, 0.0625, 0.125, 0.25, 0.5, 1.0]\n",
    "print(\"contrastRight: \", np.unique(df['contrastRight']))\n",
    "print(\"choice: \", np.unique(df['choice']))  # 1 or 2\n",
    "print(\"feedbackType: \", np.unique(df['feedbackType']))  # 0 or 1\n",
    "print(\"answer: \", np.unique(df['answer']))  # 1 or 2"
   ]
  },
  {
   "cell_type": "code",
   "execution_count": 7,
   "metadata": {
    "ExecuteTime": {
     "end_time": "2020-03-25T21:39:12.526923Z",
     "start_time": "2020-03-25T21:39:12.465339Z"
    }
   },
   "outputs": [],
   "source": [
    "def getMouse(subject, p=5):\n",
    "    df = pd.read_pickle(\"ibl_processed.pkl\")\n",
    "    df = df[df['subject']==subject]\n",
    "    \n",
    "    # Application of the tanh transform of contrast values\n",
    "    cL = np.tanh(p*df['contrastLeft'])/np.tanh(p)\n",
    "    cR = np.tanh(p*df['contrastRight'])/np.tanh(p)\n",
    "    inputs = dict(cL = np.array(cL)[:, None], cR = np.array(cR)[:, None])\n",
    "\n",
    "    dat = dict(\n",
    "        subject=subject,\n",
    "        lab=np.unique(df[\"lab\"])[0],\n",
    "        contrastLeft=np.array(df['contrastLeft']),\n",
    "        contrastRight=np.array(df['contrastRight']),\n",
    "        date=np.array(df['date']),\n",
    "        dayLength=np.array(df.groupby(['date','session']).size()),\n",
    "        correct=np.array(df['feedbackType']),\n",
    "        probL=np.array(df['probabilityLeft']),\n",
    "        inputs = inputs,\n",
    "        y = np.array(df['choice'])\n",
    "    )\n",
    "    return dat"
   ]
  },
  {
   "cell_type": "markdown",
   "metadata": {},
   "source": [
    "# Figure | Early Training IBL Data"
   ]
  },
  {
   "cell_type": "markdown",
   "metadata": {},
   "source": [
    "**(A)** Show performance curve of example mouse on easy trials in early training\n",
    "\n",
    "**(B)** Show data for early training of one mouse"
   ]
  },
  {
   "cell_type": "markdown",
   "metadata": {
    "ExecuteTime": {
     "end_time": "2020-01-23T07:22:32.432229Z",
     "start_time": "2020-01-23T07:22:32.387441Z"
    }
   },
   "source": [
    "## Figure A"
   ]
  },
  {
   "cell_type": "code",
   "execution_count": 8,
   "metadata": {
    "ExecuteTime": {
     "end_time": "2020-03-25T21:40:24.068038Z",
     "start_time": "2020-03-25T21:40:22.008167Z"
    }
   },
   "outputs": [
    {
     "data": {
      "image/png": "[encoded data removed]",
      "text/plain": [
       "<Figure size 385x126 with 1 Axes>"
      ]
     },
     "metadata": {
      "needs_background": "light"
     },
     "output_type": "display_data"
    }
   ],
   "source": [
    "from datetime import date, datetime, timedelta\n",
    "\n",
    "outData = getMouse('CSHL_003', p=5)\n",
    "easy_trials = (outData['contrastLeft'] > 0.45).astype(int) | (outData['contrastRight'] > 0.45).astype(int)\n",
    "\n",
    "perf = []\n",
    "for d in np.unique(outData['date']):\n",
    "    date_trials = (outData['date'] == d).astype(int)\n",
    "    inds = (date_trials * easy_trials).astype(bool)\n",
    "    perf += [np.average(outData['correct'][inds])]\n",
    "\n",
    "dates = np.unique([datetime.strptime(i, \"%Y-%m-%d\") for i in outData['date']])\n",
    "dates = np.arange(len(dates)) + 1\n",
    "\n",
    "# Plotting\n",
    "fig = plt.figure(figsize=(2.75,0.9))\n",
    "\n",
    "plt.plot(dates[:16], perf[:16], color=\"black\", linewidth=1.5, zorder=2)\n",
    "\n",
    "plt.axhline(0.5, color=\"black\", linestyle=\"--\", lw=1, alpha=0.5, zorder=0)\n",
    "\n",
    "plt.xticks(np.arange(0,16,5))\n",
    "plt.yticks([0.4,0.6,0.8,1.0])\n",
    "plt.ylim(0.25,1.0)\n",
    "plt.xlim(1, 15.5)\n",
    "plt.gca().spines['right'].set_visible(False)\n",
    "plt.gca().spines['top'].set_visible(False)\n",
    "\n",
    "plt.subplots_adjust(0,0,1,1) \n",
    "# plt.savefig(spath + \"FigA.pdf\")"
   ]
  },
  {
   "cell_type": "markdown",
   "metadata": {},
   "source": [
    "## Figure 3b"
   ]
  },
  {
   "cell_type": "code",
   "execution_count": 9,
   "metadata": {
    "ExecuteTime": {
     "end_time": "2020-03-25T21:40:45.214745Z",
     "start_time": "2020-03-25T21:40:26.463564Z"
    }
   },
   "outputs": [],
   "source": [
    "# Collect data from manually determined training period\n",
    "new_dat = psy.trim(outData, END=7000)\n",
    "\n",
    "# Compute\n",
    "weights = {'bias' : 0, 'cL' : 1, 'cR' : 1}\n",
    "K = np.sum([weights[i] for i in weights.keys()])\n",
    "hyper_guess = {\n",
    " 'sigma'   : [2**-5]*K,\n",
    " 'sigInit' : 2**5,\n",
    " 'sigDay'  : None\n",
    "  }\n",
    "optList = ['sigma']\n",
    "\n",
    "hyp, evd, wMode, hess_info = psy.hyperOpt(new_dat, hyper_guess, weights, optList)\n",
    "\n",
    "dat = {'hyp' : hyp, 'evd' : evd, 'wMode' : wMode, 'W_std' : hess_info['W_std'],\n",
    "       'weights' : weights, 'new_dat' : new_dat}\n",
    "\n",
    "# Save interim result\n",
    "np.savez_compressed(spath+'figB_data.npz', dat=dat)"
   ]
  },
  {
   "cell_type": "code",
   "execution_count": 10,
   "metadata": {
    "ExecuteTime": {
     "end_time": "2020-03-25T21:40:45.483996Z",
     "start_time": "2020-03-25T21:40:45.218360Z"
    }
   },
   "outputs": [
    {
     "data": {
      "image/png": "[encoded data removed]",
      "text/plain": [
       "<Figure size 385x182 with 1 Axes>"
      ]
     },
     "metadata": {
      "needs_background": "light"
     },
     "output_type": "display_data"
    }
   ],
   "source": [
    "dat = np.load(spath+'figB_data.npz', allow_pickle=True)['dat'].item()\n",
    "\n",
    "fig = psy.plot_weights(dat['wMode'], dat['weights'], days=dat['new_dat'][\"dayLength\"], \n",
    "                       errorbar=dat['W_std'], figsize=(2.75,1.3))\n",
    "\n",
    "plt.axvline(np.cumsum(dat['new_dat']['dayLength'])[8], c=\"black\", lw=1.5, ls=\"--\", zorder=15)\n",
    "plt.ylim(-5.3,5.3)\n",
    "plt.xlim(0, 6950)\n",
    "plt.yticks([-4,-2,0,2,4])\n",
    "plt.xlabel(None); plt.ylabel(None)\n",
    "plt.subplots_adjust(0,0,1,1) \n",
    "# plt.savefig(spath + \"FigB.pdf\")"
   ]
  },
  {
   "cell_type": "code",
   "execution_count": null,
   "metadata": {},
   "outputs": [],
   "source": []
  }
 ],
 "metadata": {
  "kernelspec": {
   "display_name": "Python 3",
   "language": "python",
   "name": "python3"
  },
  "language_info": {
   "codemirror_mode": {
    "name": "ipython",
    "version": 3
   },
   "file_extension": ".py",
   "mimetype": "text/x-python",
   "name": "python",
   "nbconvert_exporter": "python",
   "pygments_lexer": "ipython3",
   "version": "3.7.6"
  },
  "latex_envs": {
   "LaTeX_envs_menu_present": true,
   "autoclose": false,
   "autocomplete": true,
   "bibliofile": "biblio.bib",
   "cite_by": "apalike",
   "current_citInitial": 1,
   "eqLabelWithNumbers": true,
   "eqNumInitial": 1,
   "hotkeys": {
    "equation": "Ctrl-E",
    "itemize": "Ctrl-I"
   },
   "labels_anchors": false,
   "latex_user_defs": false,
   "report_style_numbering": false,
   "user_envs_cfg": false
  }
 },
 "nbformat": 4,
 "nbformat_minor": 2
}
