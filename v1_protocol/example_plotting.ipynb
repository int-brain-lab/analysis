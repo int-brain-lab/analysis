{
 "cells": [
  {
   "cell_type": "code",
   "execution_count": 1,
   "metadata": {},
   "outputs": [],
   "source": [
    "from pathlib import Path\n",
    "import numpy as np\n",
    "from brainbox.processing import bincount2D\n",
    "import matplotlib.pyplot as plt\n",
    "from oneibl.one import ONE\n",
    "import alf.io\n",
    "import scipy.stats\n",
    "import pandas as pd\n",
    "import seaborn as sns\n",
    "plt.ion()\n",
    "\n",
    "\n",
    "def raster_complete(R, times, Clusters):\n",
    "    '''\n",
    "    Plot a rasterplot for the complete recording\n",
    "    (might be slow, restrict R if so),\n",
    "    ordered by insertion depth, with\n",
    "\n",
    "    :param R: multidimensional binned neural activity\n",
    "    :param times: ttl time stamps in sec\n",
    "    :param Cluster: cluster ids\n",
    "    '''\n",
    "\n",
    "    plt.imshow(R, aspect='auto', cmap='binary', vmax=T_BIN / 0.001 / 4,\n",
    "               origin='lower', extent=np.r_[times[[0, -1]], Clusters[[0, -1]]])\n",
    "\n",
    "    plt.xlabel('Time (s)')\n",
    "    plt.ylabel('Cluster #; ordered by depth')\n",
    "    plt.show()\n",
    "\n",
    "    # plt.savefig('/home/mic/Rasters/%s.png' %(trial_number))\n",
    "    # plt.close('all')\n",
    "    plt.tight_layout()\n",
    "\n",
    "\n",
    "def _get_spike_counts_in_bins(spike_times, spike_clusters, intervals=None):\n",
    "    \"\"\"Return the number of spikes in a sequence of time intervals,\n",
    "    for each neuron.\n",
    "    :param spike_times: times of spikes, in seconds\n",
    "    :type spike_times: 1D array\n",
    "    :param spike_clusters: spike neurons\n",
    "    :type spike_clusters: 1D array, same length as spike_times\n",
    "    :type intervals: the times of the events onsets and offsets\n",
    "    :param interval: 2D array\n",
    "    :rtype: 2D array of shape `(n_neurons, n_intervals)`\n",
    "    \"\"\"\n",
    "    # Check inputs.\n",
    "    assert spike_times.ndim == spike_clusters.ndim == 1\n",
    "    assert spike_times.shape == spike_clusters.shape\n",
    "    intervals = np.atleast_2d(intervals)\n",
    "    assert intervals.ndim == 2\n",
    "    assert intervals.shape[1] == 2\n",
    "    n_intervals = intervals.shape[0]\n",
    "\n",
    "    # For each neuron and each interval, the number of spikes in the interval.\n",
    "    neuron_ids = np.unique(spike_clusters)\n",
    "    n_neurons = len(neuron_ids)\n",
    "    counts = np.zeros((n_neurons, n_intervals), dtype=np.uint32)\n",
    "    for j in range(n_intervals):\n",
    "        t0, t1 = intervals[j, :]\n",
    "        # Count the number of spikes in the window, for each neuron.\n",
    "        x = np.bincount(\n",
    "            spike_clusters[(t0 <= spike_times) & (spike_times < t1)],\n",
    "            minlength=neuron_ids.max() + 1)\n",
    "        counts[:, j] = x[neuron_ids]\n",
    "    # value (i, j) is the number of spikes of neuron `neurons[i]` in interval\n",
    "    # #j\n",
    "    return counts\n",
    "\n",
    "\n",
    "def are_neurons_responsive(\n",
    "        spike_times,\n",
    "        spike_clusters,\n",
    "        stimulus_intervals=None,\n",
    "        spontaneous_period=None,\n",
    "        p_value_threshold=.05):\n",
    "    \"\"\"\n",
    "    Return which neurons are responsive after\n",
    "    specific stimulus events, compared to\n",
    "    spontaneous activity, according to a Wilcoxon test.\n",
    "    :param spike_times: times of spikes, in seconds\n",
    "    :type spike_times: 1D array\n",
    "    :param spike_clusters: spike neurons\n",
    "    :type spike_clusters: 1D array, same length as spike_times\n",
    "    :type stimulus_intervals: the times of\n",
    "        the stimulus events onsets and offsets\n",
    "    :param stimulus_intervals: 2D array\n",
    "    :type spontaneous_period: the period of spontaneous activity\n",
    "    :param spontaneous_period: 1D array with 2 elements\n",
    "    :param p_value_threshold: the threshold for the\n",
    "        p value in the Wilcoxon test.\n",
    "    :type p_value_threshold: float\n",
    "    :rtype: 1D boolean array with `n_neurons`\n",
    "        elements (clusters are sorted by increasing cluster\n",
    "        id as appearing in spike_clusters).\n",
    "    \"\"\"\n",
    "    stimulus_counts = _get_spike_counts_in_bins(\n",
    "        spike_times, spike_clusters, stimulus_intervals)\n",
    "    # Find spontaneous intervals.\n",
    "    stimulus_durations = np.diff(stimulus_intervals, axis=1).squeeze()\n",
    "    t0, t1 = spontaneous_period\n",
    "    spontaneous_starts = np.linspace(\n",
    "        t0,\n",
    "        t1 - stimulus_durations.max(),\n",
    "        len(stimulus_intervals))\n",
    "    spontaneous_intervals = np.c_[\n",
    "        spontaneous_starts,\n",
    "        spontaneous_starts +\n",
    "        stimulus_durations]\n",
    "    # Count the spontaneous counts.\n",
    "    spontaneous_counts = _get_spike_counts_in_bins(\n",
    "        spike_times, spike_clusters, spontaneous_intervals)\n",
    "    assert stimulus_counts.shape == stimulus_counts.shape\n",
    "    # Generate the responsive vector (for every neuron, whether it is\n",
    "    # responsive).\n",
    "    responsive = np.zeros(stimulus_counts.shape[0], dtype=np.bool)\n",
    "    n_neurons = stimulus_counts.shape[0]\n",
    "    for i in range(n_neurons):\n",
    "        x = stimulus_counts[i, :]\n",
    "        y = spontaneous_counts[i, :]\n",
    "        try:\n",
    "            _, p = scipy.stats.wilcoxon(x, y)\n",
    "        except ValueError:\n",
    "            pass\n",
    "        responsive[i] = p < p_value_threshold\n",
    "    return responsive\n",
    "\n",
    "\n",
    "def compute_rfs(\n",
    "        spike_times,\n",
    "        spike_clusters,\n",
    "        stimulus_times,\n",
    "        stimulus,\n",
    "        lags=8,\n",
    "        binsize=0.025):\n",
    "    \"\"\"\n",
    "    Compute receptive fields from locally sparse noise\n",
    "    stimulus for all recorded neurons; uses a\n",
    "    PSTH-like approach that averages responses\n",
    "    from each neuron for each pixel flip\n",
    "    :param spike_times: array of spike times\n",
    "    :param spike_clusters: array of cluster ids associated\n",
    "        with each entry of `spike_times`\n",
    "    :param stimulus_times: (M,) array of stimulus presentation times\n",
    "    :param stimulus: (M, y_pix, x_pix) array of pixel values\n",
    "    :param lags: temporal dimension of receptive field\n",
    "    :param binsize: length of each lag (seconds)\n",
    "    :return: dictionary of \"on\" and \"off\"\n",
    "        receptive fields (values are lists);\n",
    "        each rf is [t, y_pix, x_pix]\n",
    "    \"\"\"\n",
    "\n",
    "    from brainbox.processing import bincount2D\n",
    "\n",
    "    cluster_ids = np.unique(spike_clusters)\n",
    "    n_clusters = len(cluster_ids)\n",
    "    _, y_pix, x_pix = stimulus.shape\n",
    "    stimulus = stimulus.astype('float')\n",
    "    subs = ['on', 'off']\n",
    "    rfs = {\n",
    "        sub: np.zeros(\n",
    "            shape=(\n",
    "                n_clusters,\n",
    "                y_pix,\n",
    "                x_pix,\n",
    "                lags +\n",
    "                1)) for sub in subs}\n",
    "    flips = {sub: np.zeros(shape=(y_pix, x_pix)) for sub in subs}\n",
    "\n",
    "    gray = np.median(stimulus)\n",
    "    # loop over time points\n",
    "    for i, t in enumerate(stimulus_times):\n",
    "        # skip first frame since we're looking for pixels that flipped\n",
    "        if i == 0:\n",
    "            continue\n",
    "        # find pixels that flipped\n",
    "        frame_change = stimulus[i, :, :] - gray\n",
    "        ys, xs = np.where((frame_change != 0) & (\n",
    "            stimulus[i - 1, :, :] == gray))\n",
    "        # loop over changed pixels\n",
    "        for y, x in zip(ys, xs):\n",
    "            if frame_change[y, x] > 0:  # gray -> white\n",
    "                sub = 'on'\n",
    "            else:  # black -> white\n",
    "                sub = 'off'\n",
    "            # bin spikes in the binsize*lags seconds following this flip\n",
    "            t_beg = t\n",
    "            t_end = t + binsize * lags\n",
    "            idxs_t = (spike_times >= t_beg) & (spike_times < t_end)\n",
    "            binned_spikes, _, cluster_idxs = bincount2D(\n",
    "                spike_times[idxs_t], spike_clusters[idxs_t],\n",
    "                xbin=binsize, xlim=[t_beg, t_end])\n",
    "            # insert these binned spikes into the rfs\n",
    "            _, cluster_idxs, _ = np.intersect1d(\n",
    "                cluster_ids, cluster_idxs, return_indices=True)\n",
    "            rfs[sub][cluster_idxs, y, x, :] += binned_spikes\n",
    "            # record flip\n",
    "            flips[sub][y, x] += 1\n",
    "\n",
    "    # normalize spikes by number of flips\n",
    "    for sub in rfs:\n",
    "        for y in range(y_pix):\n",
    "            for x in range(x_pix):\n",
    "                if flips[sub][y, x] != 0:\n",
    "                    rfs[sub][:, y, x, :] /= flips[sub][y, x]\n",
    "\n",
    "    # turn into list\n",
    "    rfs_list = {}\n",
    "    for sub in subs:\n",
    "        rfs_list[sub] = [rfs[sub][i, :, :, :] for i in range(n_clusters)]\n",
    "    return rfs_list\n",
    "\n",
    "\n",
    "def compute_rfs_corr(\n",
    "        spike_times,\n",
    "        spike_clusters,\n",
    "        stimulus_times,\n",
    "        stimulus,\n",
    "        lags=8,\n",
    "        binsize=0.025):\n",
    "    \"\"\"\n",
    "    Compute receptive fields from locally\n",
    "    sparse noise stimulus for all\n",
    "    recorded neurons; uses a reverse correlation approach\n",
    "    :param spike_times: array of spike times\n",
    "    :param spike_clusters: array of cluster ids associated\n",
    "        with each entry of `spikes`\n",
    "    :param stimulus_times: (M,) array of stimulus presentation times\n",
    "    :param stimulus: (M, y_pix, x_pix) array of pixel values\n",
    "    :param lags: temporal dimension of receptive field\n",
    "    :param binsize: length of each lag (seconds)\n",
    "    :return: dictionary of \"on\" and \"off\" receptive\n",
    "        fields (values are lists); each rf is [t, y_pix, x_pix]\n",
    "    \"\"\"\n",
    "\n",
    "    from brainbox.processing import bincount2D\n",
    "    from scipy.signal import correlate\n",
    "\n",
    "    # bin spikes\n",
    "    indx_t = (spike_times > np.min(stimulus_times)) & \\\n",
    "             (spike_times < np.max(stimulus_times))\n",
    "    binned_spikes, ts_binned_spikes, cluster_ids = bincount2D(\n",
    "        spike_times[indx_t], spike_clusters[indx_t], xbin=binsize)\n",
    "    n_clusters = len(cluster_ids)\n",
    "\n",
    "    _, y_pix, x_pix = stimulus.shape\n",
    "    stimulus = stimulus.astype('float')\n",
    "    gray = np.median(stimulus)\n",
    "\n",
    "    subs = ['on', 'off']\n",
    "    rfs = {\n",
    "        sub: np.zeros(\n",
    "            shape=(\n",
    "                n_clusters,\n",
    "                y_pix,\n",
    "                x_pix,\n",
    "                lags +\n",
    "                1)) for sub in subs}\n",
    "\n",
    "    # for indexing output of convolution\n",
    "    i_end = binned_spikes.shape[1]\n",
    "    i_beg = i_end - lags\n",
    "\n",
    "    for sub in subs:\n",
    "        for y in range(y_pix):\n",
    "            for x in range(x_pix):\n",
    "                # find times that pixels flipped\n",
    "                diffs = np.concatenate([np.diff(stimulus[:, y, x]), [0]])\n",
    "                if sub == 'on':  # gray -> white\n",
    "                    changes = (diffs > 0) & (stimulus[:, y, x] == gray)\n",
    "                else:\n",
    "                    changes = (diffs < 0) & (stimulus[:, y, x] == gray)\n",
    "                t_change = np.where(changes)[0]\n",
    "\n",
    "                # put on same timescale as neural activity\n",
    "                binned_stim = np.zeros(shape=ts_binned_spikes.shape)\n",
    "                for t in t_change:\n",
    "                    stim_time = stimulus_times[t]\n",
    "                    # find nearest time in binned spikes\n",
    "                    idx = np.argmin((ts_binned_spikes - stim_time) ** 2)\n",
    "                    binned_stim[idx] = 1\n",
    "\n",
    "                for n in range(n_clusters):\n",
    "                    # cross correlate signal with spiking activity\n",
    "                    # NOTE: scipy's correlate function is appx two orders of\n",
    "                    # magnitude faster than numpy's correlate function on\n",
    "                    # relevant data size; perhaps scipy uses FFT? Not in docs.\n",
    "                    cc = correlate(\n",
    "                        binned_stim, binned_spikes[n, :], mode='full')\n",
    "                    rfs[sub][n, y, x, :] = cc[i_beg:i_end + 1]\n",
    "\n",
    "    # turn into list\n",
    "    rfs_list = {}\n",
    "    for sub in subs:\n",
    "        rfs_list[sub] = [rfs[sub][i, :, :, :] for i in range(n_clusters)]\n",
    "    return rfs_list\n",
    "\n",
    "\n",
    "def find_peak_responses(rfs):\n",
    "    \"\"\"\n",
    "    Find peak response across time, space, and receptive field type (\"on\" and\n",
    "    \"off\")\n",
    "    :param rfs: dictionary of receptive fields (output of `compute_rfs`); each\n",
    "        rf is of size [t, y_pix, y_pix]\n",
    "    :return: dictionary containing peak rf time slice for both \"on\" and \"off\"\n",
    "        rfs (values are lists)\n",
    "    \"\"\"\n",
    "    rfs_peak = {key: [] for key in rfs.keys()}\n",
    "    # loop over rf type\n",
    "    for sub_type, subs in rfs.items():\n",
    "        # loop over clusters\n",
    "        for sub in subs:\n",
    "            # max over space for each time point\n",
    "            s_max = np.max(sub, axis=(0, 1))\n",
    "            # take time point with largest max\n",
    "            rfs_peak[sub_type].append(sub[:, :, np.argmax(s_max)])\n",
    "    return rfs_peak\n",
    "\n",
    "\n",
    "def interpolate_rfs(rfs, bin_scale):\n",
    "    \"\"\"\n",
    "    Bilinear interpolation of receptive fields\n",
    "    :param rfs: dictionary of receptive fields\n",
    "        (single time slice)\n",
    "    :param bin_scale: scaling factor to determine\n",
    "        number of bins for interpolation;\n",
    "        e.g. bin_scale=0.5 doubles the number of bins in both directions\n",
    "    :return: dictionary of interpolated receptive fields (values are lists)\n",
    "    \"\"\"\n",
    "    from scipy.interpolate import interp2d\n",
    "    rfs_interp = {'on': [], 'off': []}\n",
    "    x_pix, y_pix = rfs['on'][0].shape\n",
    "    x_grid = np.arange(x_pix)\n",
    "    y_grid = np.arange(y_pix)\n",
    "    x_grid_new = np.arange(-0.5, x_pix, bin_scale)\n",
    "    y_grid_new = np.arange(-0.5, y_pix, bin_scale)\n",
    "    # loop over rf type\n",
    "    for sub_type, subs in rfs.items():\n",
    "        # loop over clusters\n",
    "        for sub in subs:\n",
    "            f = interp2d(y_grid, x_grid, sub)\n",
    "            rfs_interp[sub_type].append(f(y_grid_new, x_grid_new))\n",
    "    return rfs_interp\n",
    "\n",
    "\n",
    "def extract_blob(array, y, x):\n",
    "    \"\"\"\n",
    "    Extract contiguous blob of `True` values in a boolean array starting at the\n",
    "    point (y, x)\n",
    "    :param array: 2D boolean array\n",
    "    :param y: initial y pixel\n",
    "    :param x: initial x pixel\n",
    "    :return: list of blob indices\n",
    "    \"\"\"\n",
    "    y_pix, x_pix = array.shape\n",
    "    blob = []\n",
    "    pixels_to_check = [[y, x]]\n",
    "    while len(pixels_to_check) != 0:\n",
    "        pixel = pixels_to_check.pop(0)\n",
    "        blob.append(pixel)\n",
    "        y = pixel[0]\n",
    "        x = pixel[1]\n",
    "        # check N, S, E, W\n",
    "        for idx in [[y - 1, x], [y + 1, x], [y, x + 1], [y, x - 1]]:\n",
    "            if idx in blob:\n",
    "                continue\n",
    "            # check boundaries\n",
    "            xi = idx[0]\n",
    "            yi = idx[1]\n",
    "            if (0 <= yi < y_pix) and (0 <= xi < x_pix):\n",
    "                if array[xi, yi] and idx not in pixels_to_check:\n",
    "                    pixels_to_check.append(idx)\n",
    "    return blob\n",
    "\n",
    "\n",
    "def extract_blobs(array):\n",
    "    \"\"\"\n",
    "    Extract contiguous blobs of `True` values in a boolean array\n",
    "    :param array: 2D boolean array\n",
    "    :return: list of lists of blob indices\n",
    "    \"\"\"\n",
    "    y_pix, x_pix = array.shape\n",
    "    processed_pix = []\n",
    "    blobs = []\n",
    "    for y in range(y_pix):\n",
    "        for x in range(x_pix):\n",
    "            # find a blob starting at this point\n",
    "            if not array[y, x]:\n",
    "                continue\n",
    "            if [y, x] in processed_pix:\n",
    "                continue\n",
    "            blob = extract_blob(array, y, x)\n",
    "            for pixel in blob:\n",
    "                processed_pix.append(pixel)\n",
    "            blobs.append(blob)\n",
    "    return blobs\n",
    "\n",
    "\n",
    "def find_contiguous_pixels(rfs, threshold=0.35):\n",
    "    \"\"\"\n",
    "    Calculate number of contiguous pixels in a thresholded version of the\n",
    "    receptive field\n",
    "    :param rfs: dictionary of receptive fields (single time slice)\n",
    "    :param threshold: pixels below this fraction of the maximum firing are set\n",
    "        to zero before contiguous pixels are calculated\n",
    "    :return: dictionary of contiguous pixels for each rf type (\"on and \"off\")\n",
    "    \"\"\"\n",
    "\n",
    "    # store results\n",
    "    n_clusters = len(rfs['on'])\n",
    "    max_fr = np.zeros(n_clusters)\n",
    "    contig_pixels = {'on': np.zeros(n_clusters), 'off': np.zeros(n_clusters)}\n",
    "\n",
    "    # compute max firing rate for each cluster\n",
    "    for sub_type, subs in rfs.items():\n",
    "        for n, sub in enumerate(subs):\n",
    "            max_fr[n] = np.max([max_fr[n], np.max(sub)])\n",
    "\n",
    "    # compute max number of contiguous pixels\n",
    "    for sub_type, subs in rfs.items():\n",
    "        for n, sub in enumerate(subs):\n",
    "            # compute rf mask using threshold\n",
    "            rf_mask = sub > (threshold * max_fr[n])\n",
    "            # extract contiguous pixels (blobs)\n",
    "            blobs = extract_blobs(rf_mask)\n",
    "            # save size of largest blob\n",
    "            if len(blobs) != 0:\n",
    "                contig_pixels[sub_type][n] = np.max(\n",
    "                    [len(blob) for blob in blobs])\n",
    "\n",
    "    return contig_pixels\n",
    "\n",
    "\n",
    "def compute_rf_areas(rfs, bin_scale=0.5, threshold=0.35):\n",
    "    \"\"\"\n",
    "    Compute receptive field areas as described in:\n",
    "    Durand et al. 2016\n",
    "    \"A Comparison of Visual Response Properties \n",
    "    in the Lateral Geniculate Nucleus\n",
    "    and Primary Visual Cortex of Awake and Anesthetized Mice\"\n",
    "    :param rfs: dictionary of receptive fields (dict keys are 'on' and 'off');\n",
    "        output of `compute_rfs`\n",
    "    :param bin_scale: scaling for interpolation (e.g. 0.5 doubles bins)\n",
    "    :param threshold: pixels below this fraction of the maximum firing are set\n",
    "        to zero before contiguous pixels are calculated\n",
    "    :return: dictionary of receptive field areas for each type (\"on\" and \"off\")\n",
    "    \"\"\"\n",
    "\n",
    "    # \"the larger of the ON and OFF peak responses was taken to be the maximum\n",
    "    # firing rate of the cluster\"\n",
    "    peaks = find_peak_responses(rfs)\n",
    "\n",
    "    # \"the trial-averaged mean firing rates within the peak bins were then used\n",
    "    # to estimate the sizes of the ON and OFF subfields...we interpolated each\n",
    "    # subfield using a 2D bilinear interpolation.\"\n",
    "    peaks_interp = interpolate_rfs(peaks, bin_scale=bin_scale)\n",
    "\n",
    "    # \"All pixels in the interpolated grids that were <35% of the cluster's\n",
    "    # maximum firing rate were set to zero and a contiguous non-zero set of\n",
    "    # pixels, including the peak pixel, were isolated\"\n",
    "    contig_pixels = find_contiguous_pixels(peaks_interp, threshold=threshold)\n",
    "\n",
    "    return contig_pixels\n",
    "\n",
    "\n",
    "def plot_rf_distributions(rf_areas, plot_type='box'):\n",
    "    \"\"\"\n",
    "    :param rf_areas:\n",
    "    :param plot_type: 'box' | 'hist'\n",
    "    :return: figure handle\n",
    "    \"\"\"\n",
    "\n",
    "    # put results into dataframe for easier plotting\n",
    "    results = []\n",
    "    for sub_type, areas in rf_areas.items():\n",
    "        for i, area in enumerate(areas):\n",
    "            results.append(pd.DataFrame({\n",
    "                'cluster_id': i,\n",
    "                'area': area,\n",
    "                'Subfield': sub_type.upper()}, index=[0]))\n",
    "    results_pd = pd.concat(results, ignore_index=True)\n",
    "    # leave out non-responsive clusters\n",
    "    data_queried = results_pd[results_pd.area != 0]\n",
    "\n",
    "    if plot_type == 'box':\n",
    "\n",
    "        splt = sns.catplot(\n",
    "            x='Subfield', y='area', kind='box', data=data_queried)\n",
    "        splt.fig.axes[0].set_yscale('log')\n",
    "        splt.fig.axes[0].set_ylabel('RF Area (pixels$^2$)')\n",
    "        splt.fig.axes[0].set_ylim([1e-1, 1e4])\n",
    "\n",
    "    elif plot_type == 'hist':\n",
    "        bins = 10 ** (np.arange(-1, 4.25, 0.25))\n",
    "        xmin = 1e-1\n",
    "        xmax = 1e4\n",
    "        ymin = 1e0\n",
    "        ymax = 1e3\n",
    "        splt = plt.figure(figsize=(12, 4))\n",
    "\n",
    "        plt.subplot(121)\n",
    "        plt.hist(data_queried[data_queried.Subfield ==\n",
    "                              'ON']['area'], bins=bins, log=True)\n",
    "        plt.xlabel('RF Area (pixels)')\n",
    "        plt.xscale('log')\n",
    "        plt.xlim([xmin, xmax])\n",
    "        plt.ylim([ymin, ymax])\n",
    "        plt.ylabel('Cluster count')\n",
    "        plt.title('ON Subfield')\n",
    "\n",
    "        plt.subplot(122)\n",
    "        plt.hist(data_queried[data_queried.Subfield ==\n",
    "                              'OFF']['area'], bins=bins, log=True)\n",
    "        plt.xlabel('RF Area (pixels)')\n",
    "        plt.xscale('log')\n",
    "        plt.xlim([xmin, xmax])\n",
    "        plt.ylim([ymin, ymax])\n",
    "        plt.title('OFF Subfield')\n",
    "\n",
    "    plt.show()\n",
    "\n",
    "    return splt\n"
   ]
  },
  {
   "cell_type": "code",
   "execution_count": 2,
   "metadata": {},
   "outputs": [
    {
     "name": "stdout",
     "output_type": "stream",
     "text": [
      "Connected to https://alyx.internationalbrainlab.org as michael.schartner\n"
     ]
    },
    {
     "name": "stderr",
     "output_type": "stream",
     "text": [
      "\u001b[36m2019-11-11 14:36:02.597 INFO     [webclient.py:81] Downloading: /home/mic/Downloads/FlatIron/mainenlab/Subjects/ZM_2104/2019-09-19/001/alf/channels.rawInd.c522b2c7-4240-443d-9733-00683873ec41.npy Bytes: 2632\u001b[0m\n"
     ]
    },
    {
     "name": "stdout",
     "output_type": "stream",
     "text": [
      "\r",
      " |████████████████████████████████████████████████████████████████████████████████████████████████████| 100.0% \r"
     ]
    },
    {
     "name": "stderr",
     "output_type": "stream",
     "text": [
      "\u001b[36m2019-11-11 14:36:03.0 INFO     [webclient.py:81] Downloading: /home/mic/Downloads/FlatIron/mainenlab/Subjects/ZM_2104/2019-09-19/001/alf/clusters.depths.e4a2ec70-a263-4a14-9719-84e1cef98ecb.npy Bytes: 5880\u001b[0m\n"
     ]
    },
    {
     "name": "stdout",
     "output_type": "stream",
     "text": [
      "\r",
      " |████████████████████████████████████████████████████████████████████████████████████████████████████| 100.0% \r"
     ]
    },
    {
     "name": "stderr",
     "output_type": "stream",
     "text": [
      "\u001b[36m2019-11-11 14:36:03.412 INFO     [webclient.py:81] Downloading: /home/mic/Downloads/FlatIron/mainenlab/Subjects/ZM_2104/2019-09-19/001/alf/clusters.channels.19c7397f-323c-4cae-8281-f8f3d275f409.npy Bytes: 5880\u001b[0m\n"
     ]
    },
    {
     "name": "stdout",
     "output_type": "stream",
     "text": [
      "\r",
      " |████████████████████████████████████████████████████████████████████████████████████████████████████| 100.0% \r"
     ]
    },
    {
     "name": "stderr",
     "output_type": "stream",
     "text": [
      "\u001b[36m2019-11-11 14:36:03.837 INFO     [webclient.py:81] Downloading: /home/mic/Downloads/FlatIron/mainenlab/Subjects/ZM_2104/2019-09-19/001/alf/spikes.templates.ef34d68f-d0e9-4b77-b8fe-d95c0c7739ac.npy Bytes: 72676584\u001b[0m\n"
     ]
    },
    {
     "name": "stdout",
     "output_type": "stream",
     "text": [
      " |████████████████████████████████████████████████████████████████████████████████████████████████████| 100.0% \r"
     ]
    },
    {
     "name": "stderr",
     "output_type": "stream",
     "text": [
      "\u001b[36m2019-11-11 14:36:07.135 INFO     [webclient.py:81] Downloading: /home/mic/Downloads/FlatIron/mainenlab/Subjects/ZM_2104/2019-09-19/001/alf/spikes.samples.c15521cc-0edb-4a7c-a109-672c72d97014.npy Bytes: 145353040\u001b[0m\n"
     ]
    },
    {
     "name": "stdout",
     "output_type": "stream",
     "text": [
      " |████████████████████████████████████████████████████████████████████████████████████████████████████| 100.0% \r"
     ]
    },
    {
     "name": "stderr",
     "output_type": "stream",
     "text": [
      "\u001b[36m2019-11-11 14:36:12.655 INFO     [webclient.py:81] Downloading: /home/mic/Downloads/FlatIron/mainenlab/Subjects/ZM_2104/2019-09-19/001/alf/spikes.times.e8fb56cb-3d78-43ed-92d6-dfe0c9e9e61a.npy Bytes: 145353040\u001b[0m\n"
     ]
    },
    {
     "name": "stdout",
     "output_type": "stream",
     "text": [
      " |████████████████████████████████████████████████████████████████████████████████████████████████████| 100.0% \r"
     ]
    },
    {
     "name": "stderr",
     "output_type": "stream",
     "text": [
      "\u001b[36m2019-11-11 14:36:18.155 INFO     [webclient.py:81] Downloading: /home/mic/Downloads/FlatIron/mainenlab/Subjects/ZM_2104/2019-09-19/001/alf/spikes.depths.d85dfd4b-7d3c-4164-8a93-7b19b1fb0b20.npy Bytes: 145353040\u001b[0m\n"
     ]
    },
    {
     "name": "stdout",
     "output_type": "stream",
     "text": [
      " |████████████████████████████████████████████████████████████████████████████████████████████████████| 100.0% \r"
     ]
    },
    {
     "name": "stderr",
     "output_type": "stream",
     "text": [
      "\u001b[36m2019-11-11 14:36:29.713 INFO     [webclient.py:81] Downloading: /home/mic/Downloads/FlatIron/mainenlab/Subjects/ZM_2104/2019-09-19/001/alf/spikes.amps.77196013-71d3-485f-85a1-4887d89e38e5.npy Bytes: 145353040\u001b[0m\n"
     ]
    },
    {
     "name": "stdout",
     "output_type": "stream",
     "text": [
      " |████████████████████████████████████████████████████████████████████████████████████████████████████| 100.0% \r"
     ]
    },
    {
     "name": "stderr",
     "output_type": "stream",
     "text": [
      "\u001b[36m2019-11-11 14:36:36.757 INFO     [webclient.py:81] Downloading: /home/mic/Downloads/FlatIron/mainenlab/Subjects/ZM_2104/2019-09-19/001/alf/spikes.clusters.60d1268b-8331-4e89-ac77-e75c5d17e2c0.npy Bytes: 72676584\u001b[0m\n"
     ]
    },
    {
     "name": "stdout",
     "output_type": "stream",
     "text": [
      " |████████████████████████████████████████████████████████████████████████████████████████████████████| 100.0% \r"
     ]
    },
    {
     "name": "stderr",
     "output_type": "stream",
     "text": [
      "\u001b[36m2019-11-11 14:36:41.991 INFO     [webclient.py:81] Downloading: /home/mic/Downloads/FlatIron/mainenlab/Subjects/ZM_2104/2019-09-19/001/alf/clusters.peakToTrough.2a3c1064-ae22-489c-99eb-c088c09983f2.npy Bytes: 5880\u001b[0m\n"
     ]
    },
    {
     "name": "stdout",
     "output_type": "stream",
     "text": [
      "\r",
      " |████████████████████████████████████████████████████████████████████████████████████████████████████| 100.0% \r"
     ]
    },
    {
     "name": "stderr",
     "output_type": "stream",
     "text": [
      "\u001b[36m2019-11-11 14:36:42.407 INFO     [webclient.py:81] Downloading: /home/mic/Downloads/FlatIron/mainenlab/Subjects/ZM_2104/2019-09-19/001/alf/clusters.amps.62d41868-aea2-41dd-b9bf-e58e2aa1e7f4.npy Bytes: 5880\u001b[0m\n"
     ]
    },
    {
     "name": "stdout",
     "output_type": "stream",
     "text": [
      "\r",
      " |████████████████████████████████████████████████████████████████████████████████████████████████████| 100.0% \r"
     ]
    },
    {
     "name": "stderr",
     "output_type": "stream",
     "text": [
      "\u001b[36m2019-11-11 14:36:42.799 INFO     [webclient.py:81] Downloading: /home/mic/Downloads/FlatIron/mainenlab/Subjects/ZM_2104/2019-09-19/001/alf/channels.localCoordinates.c3df3f84-2fa0-4cc4-afa6-3beb800d5837.npy Bytes: 5088\u001b[0m\n"
     ]
    },
    {
     "name": "stdout",
     "output_type": "stream",
     "text": [
      "\r",
      " |████████████████████████████████████████████████████████████████████████████████████████████████████| 100.0% \r"
     ]
    },
    {
     "name": "stderr",
     "output_type": "stream",
     "text": [
      "\u001b[36m2019-11-11 14:36:43.187 INFO     [webclient.py:81] Downloading: /home/mic/Downloads/FlatIron/mainenlab/Subjects/ZM_2104/2019-09-19/001/alf/channels._phy_ids.ae825a00-e4d1-412c-9835-07e12e17a850.npy Bytes: 1380\u001b[0m\n"
     ]
    },
    {
     "name": "stdout",
     "output_type": "stream",
     "text": [
      "\r",
      " |████████████████████████████████████████████████████████████████████████████████████████████████████| 100.1% \r"
     ]
    }
   ],
   "source": [
    "    # get the data from flatiron and the current folder \n",
    "    one = ONE()\n",
    "    eid = one.search(subject='ZM_2104', date='2019-09-19', number=1)\n",
    "    D = one.load(eid[0], clobber=False, download_only=True)\n",
    "    alf_path = Path(D.local_path[0]).parent\n",
    "\n",
    "    session_path = alf_path\n",
    "    path = alf_path\n",
    "    odsgratings = np.load(path / '_iblcertif_.odsgratings.times.00.npy')\n",
    "    spontaneous = np.load(path / '_iblcertif_.spontaneous.times.00.npy')\n",
    "    spike_times = np.load(path / 'spikes.times.npy')\n",
    "    spike_clusters = np.load(path / 'spikes.clusters.npy')"
   ]
  },
  {
   "cell_type": "code",
   "execution_count": 3,
   "metadata": {},
   "outputs": [],
   "source": [
    "# Return which neurons are responsive after specific stimulus events, \n",
    "# compared to spontaneous activity, according to a Wilcoxon test. "
   ]
  },
  {
   "cell_type": "code",
   "execution_count": 4,
   "metadata": {},
   "outputs": [
    {
     "name": "stderr",
     "output_type": "stream",
     "text": [
      "/home/mic/miniconda3/envs/iblenv/lib/python3.7/site-packages/scipy/stats/morestats.py:2863: UserWarning: Sample size too small for normal approximation.\n",
      "  warnings.warn(\"Sample size too small for normal approximation.\")\n"
     ]
    }
   ],
   "source": [
    "    resp = are_neurons_responsive(\n",
    "        spike_times,\n",
    "        spike_clusters,\n",
    "        odsgratings,\n",
    "        spontaneous)\n",
    "    "
   ]
  },
  {
   "cell_type": "code",
   "execution_count": 5,
   "metadata": {},
   "outputs": [
    {
     "name": "stdout",
     "output_type": "stream",
     "text": [
      "704\n"
     ]
    }
   ],
   "source": [
    "print(resp.size)\n",
    "\n"
   ]
  },
  {
   "cell_type": "code",
   "execution_count": 6,
   "metadata": {},
   "outputs": [],
   "source": [
    "# There are 704 clusters in this recording (double probe) "
   ]
  },
  {
   "cell_type": "code",
   "execution_count": 7,
   "metadata": {},
   "outputs": [
    {
     "name": "stdout",
     "output_type": "stream",
     "text": [
      "[ True  True  True  True  True  True  True  True False  True  True  True\n",
      "  True  True  True  True  True  True  True  True  True  True  True  True\n",
      "  True  True  True  True  True  True  True  True  True  True  True  True\n",
      " False  True  True  True  True  True  True  True  True  True  True  True\n",
      "  True  True  True  True  True False  True  True  True  True  True  True\n",
      "  True  True  True  True  True  True  True  True  True  True  True  True\n",
      "  True  True  True  True  True  True  True  True  True  True  True  True\n",
      "  True  True  True  True  True  True  True  True  True  True  True  True\n",
      "  True  True  True  True  True  True  True  True  True  True False  True\n",
      "  True  True  True  True  True  True  True  True  True  True  True  True\n",
      "  True  True  True  True  True  True  True  True  True  True  True  True\n",
      "  True  True  True  True  True  True  True  True  True  True  True  True\n",
      "  True  True  True  True  True  True  True  True  True  True  True  True\n",
      "  True  True  True  True  True  True  True  True  True  True  True  True\n",
      "  True  True  True  True  True  True  True  True  True  True  True  True\n",
      "  True  True  True  True  True  True  True  True False  True  True  True\n",
      "  True  True  True  True  True  True  True  True  True  True  True  True\n",
      "  True  True False  True  True  True  True  True  True  True  True  True\n",
      "  True  True  True  True False  True  True  True  True  True  True  True\n",
      "  True  True  True  True  True  True  True  True  True  True  True  True\n",
      "  True  True  True  True  True  True  True  True  True  True  True  True\n",
      "  True  True  True  True  True  True  True  True  True  True  True  True\n",
      "  True  True  True  True  True  True  True  True  True  True  True  True\n",
      "  True  True  True  True  True  True  True  True  True  True  True  True\n",
      "  True  True  True  True  True  True  True  True  True  True  True  True\n",
      "  True  True  True  True  True  True  True  True  True  True  True  True\n",
      "  True  True  True  True  True  True  True  True  True  True  True  True\n",
      "  True  True  True  True  True  True  True  True  True  True  True  True\n",
      "  True  True  True  True  True  True  True  True  True  True  True  True\n",
      "  True  True  True  True  True  True  True  True  True  True  True  True\n",
      "  True  True  True  True  True  True  True  True  True  True  True  True\n",
      "  True  True  True  True  True  True  True  True  True  True  True  True\n",
      "  True  True  True  True  True  True  True  True  True  True  True  True\n",
      "  True  True  True  True  True  True  True  True  True  True False  True\n",
      "  True  True  True  True  True  True False  True  True  True  True  True\n",
      "  True  True  True  True  True  True  True  True  True  True  True  True\n",
      "  True  True  True  True  True  True  True  True  True  True  True  True\n",
      "  True  True  True  True  True  True  True  True  True  True  True  True\n",
      "  True  True  True  True  True  True  True  True  True  True  True  True\n",
      "  True  True  True  True  True  True  True  True  True  True  True  True\n",
      "  True  True  True  True  True  True  True  True  True  True  True  True\n",
      "  True  True  True  True  True  True  True  True  True  True  True  True\n",
      "  True  True  True  True  True  True  True  True  True  True  True  True\n",
      "  True  True  True  True  True  True  True  True  True  True  True  True\n",
      "  True  True  True  True  True  True  True  True  True False  True  True\n",
      "  True  True  True  True  True  True  True  True  True  True  True  True\n",
      "  True  True  True  True False  True  True  True  True  True  True  True\n",
      "  True  True  True  True  True  True  True  True  True  True  True  True\n",
      "  True  True  True  True  True  True  True  True  True  True  True  True\n",
      "  True  True False  True  True False  True  True  True  True  True  True\n",
      "  True  True  True  True  True  True  True  True  True  True  True False\n",
      "  True  True  True  True  True  True  True  True  True  True  True  True\n",
      "  True  True  True  True False False  True False  True  True  True False\n",
      "  True  True  True  True  True  True  True  True  True  True  True  True\n",
      "  True  True  True  True  True  True  True  True  True  True  True  True\n",
      "  True  True  True  True  True  True  True  True  True  True  True  True\n",
      "  True  True  True  True  True  True  True False  True  True  True  True\n",
      "  True  True False  True  True  True  True  True  True  True  True  True\n",
      "  True  True  True  True  True  True  True  True]\n"
     ]
    }
   ],
   "source": [
    "print(resp)\n"
   ]
  },
  {
   "cell_type": "code",
   "execution_count": 8,
   "metadata": {},
   "outputs": [
    {
     "name": "stdout",
     "output_type": "stream",
     "text": [
      "Fraction of responsive neurons:  0.9715909090909091\n"
     ]
    }
   ],
   "source": [
    "print(\"Fraction of responsive neurons: \", resp.mean())"
   ]
  },
  {
   "cell_type": "code",
   "execution_count": 9,
   "metadata": {},
   "outputs": [],
   "source": [
    "# Create a raster plot with time-binned activity of all units ordered by cluster-depth\n"
   ]
  },
  {
   "cell_type": "code",
   "execution_count": 10,
   "metadata": {},
   "outputs": [
    {
     "data": {
      "image/png": "[encoded data removed]",
      "text/plain": [
       "<Figure size 432x288 with 1 Axes>"
      ]
     },
     "metadata": {
      "needs_background": "light"
     },
     "output_type": "display_data"
    },
    {
     "data": {
      "text/plain": [
       "<Figure size 432x288 with 0 Axes>"
      ]
     },
     "metadata": {},
     "output_type": "display_data"
    }
   ],
   "source": [
    "    spikes = alf.io.load_object(alf_path, 'spikes')\n",
    "\n",
    "    # bin activity\n",
    "    print\n",
    "    T_BIN = 0.01  # [sec]\n",
    "    R, times, Clusters = bincount2D(spikes['times'], spikes['clusters'], T_BIN)\n",
    "\n",
    "    # Order activity by anatomical depth of neurons\n",
    "    d = dict(zip(spikes['clusters'], spikes['depths']))\n",
    "    y = sorted([[i, d[i]] for i in d])\n",
    "    isort = np.argsort([x[1] for x in y])\n",
    "    R = R[isort, :]\n",
    "\n",
    "    # get a raster plot for the complete recording\n",
    "    raster_complete(R, times, Clusters)"
   ]
  },
  {
   "cell_type": "code",
   "execution_count": 11,
   "metadata": {},
   "outputs": [
    {
     "name": "stdout",
     "output_type": "stream",
     "text": [
      "computing receptive fields...done\n",
      "computing receptive field areas...done\n"
     ]
    },
    {
     "data": {
      "image/png": "[encoded data removed]",
      "text/plain": [
       "<Figure size 864x288 with 2 Axes>"
      ]
     },
     "metadata": {
      "needs_background": "light"
     },
     "output_type": "display_data"
    }
   ],
   "source": [
    "    # Matt's receptive field analysis (plot_rf_distributions(rf_areas, plot_type='hist'))\n",
    "\n",
    "    # user options\n",
    "    BINSIZE = 0.05  # sec\n",
    "    LAGS = 4  # number of bins for calculating RF\n",
    "    METHOD = 'corr'  # 'corr' | 'sta'\n",
    "\n",
    "    # load objects\n",
    "    spikes = alf.io.load_object(session_path, 'spikes')\n",
    "    rfmap = alf.io.load_object(session_path, '_iblcertif_.rfmap')\n",
    "    rf_stim_times = rfmap['rfmap.times.00']\n",
    "    rf_stim = rfmap['rfmap.stims.00'].astype('float')\n",
    "\n",
    "    # compute receptive fields\n",
    "    if METHOD == 'sta':\n",
    "        # method in Durand et al 2016; ~9 min for 700 units on a single cpu\n",
    "        # core\n",
    "        print('computing receptive fields...', end='')\n",
    "        rfs = compute_rfs(\n",
    "            spikes.times,\n",
    "            spikes.clusters,\n",
    "            rf_stim_times,\n",
    "            rf_stim,\n",
    "            lags=LAGS,\n",
    "            binsize=BINSIZE)\n",
    "        print('done')\n",
    "    elif METHOD == 'corr':\n",
    "        # reverse correlation method; ~3 min for 700 units on a single cpu core\n",
    "        print('computing receptive fields...', end='')\n",
    "        rfs = compute_rfs_corr(\n",
    "            spikes.times,\n",
    "            spikes.clusters,\n",
    "            rf_stim_times,\n",
    "            rf_stim,\n",
    "            lags=LAGS,\n",
    "            binsize=BINSIZE)\n",
    "        print('done')\n",
    "    else:\n",
    "        raise NotImplementedError(\n",
    "            'The %s method to compute rfs is not implemented' %\n",
    "            METHOD)\n",
    "\n",
    "    print('computing receptive field areas...', end='')\n",
    "    rf_areas = compute_rf_areas(rfs)\n",
    "    print('done')\n",
    "\n",
    "    fig = plot_rf_distributions(rf_areas, plot_type='hist')"
   ]
  },
  {
   "cell_type": "code",
   "execution_count": null,
   "metadata": {},
   "outputs": [],
   "source": []
  }
 ],
 "metadata": {
  "kernelspec": {
   "display_name": "Python (iblenv)",
   "language": "python",
   "name": "iblenv"
  },
  "language_info": {
   "codemirror_mode": {
    "name": "ipython",
    "version": 3
   },
   "file_extension": ".py",
   "mimetype": "text/x-python",
   "name": "python",
   "nbconvert_exporter": "python",
   "pygments_lexer": "ipython3",
   "version": "3.7.4"
  }
 },
 "nbformat": 4,
 "nbformat_minor": 2
}
