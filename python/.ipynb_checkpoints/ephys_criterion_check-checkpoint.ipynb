{
 "cells": [
  {
   "cell_type": "markdown",
   "metadata": {},
   "source": [
    "This script performs analyses to check how many mice pass the currenty set criterion for ephys."
   ]
  },
  {
   "cell_type": "code",
   "execution_count": 1,
   "metadata": {},
   "outputs": [
    {
     "name": "stdout",
     "output_type": "stream",
     "text": [
      "Connecting lacerbi@datajoint.internationalbrainlab.org:3306\n",
      "Connected to https://alyx.internationalbrainlab.org as lacerbi\n"
     ]
    }
   ],
   "source": [
    "import datajoint as dj\n",
    "dj.config['database.host'] = 'datajoint.internationalbrainlab.org'\n",
    "\n",
    "from ibl_pipeline import subject, acquisition, action, behavior, reference, data\n",
    "from ibl_pipeline.analyses.behavior import PsychResults, SessionTrainingStatus\n",
    "from ibl_pipeline.utils import psychofit as psy\n",
    "from ibl_pipeline.analyses import behavior as behavior_analysis\n",
    "\n",
    "import numpy as np\n",
    "import matplotlib.pyplot as plt\n",
    "import pandas as pd"
   ]
  },
  {
   "cell_type": "code",
   "execution_count": 2,
   "metadata": {},
   "outputs": [
    {
     "name": "stdout",
     "output_type": "stream",
     "text": [
      "Connected to https://alyx.internationalbrainlab.org as lacerbi\n"
     ]
    }
   ],
   "source": [
    "# Get list of subjects associated to the repeated site probe trajectory from ONE (original snippet from Gaelle Chapuis)\n",
    "from oneibl.one import ONE\n",
    "\n",
    "one = ONE()\n",
    "traj = one.alyx.rest('trajectories', 'list', provenance='Planned',\n",
    "                     x=-2243, y=-2000,  # repeated site coordinate\n",
    "                     project='ibl_neuropixel_brainwide_01')\n",
    "sess = [p['session'] for p in traj]\n",
    "\n",
    "first_pass_map_repeated = [(s['subject'],s['start_time'][0:10]) for s in sess]"
   ]
  },
  {
   "cell_type": "code",
   "execution_count": 8,
   "metadata": {},
   "outputs": [],
   "source": [
    "# Download all ephys sessions from DataJoint\n",
    "sess_ephys = (acquisition.Session * subject.Subject * behavior_analysis.SessionTrainingStatus ) & 'task_protocol LIKE \"%ephys%\"'\n",
    "#               & 'task_protocol LIKE \"%biased%\"' & 'session_start_time < \"2019-09-30\"')\n",
    "df = pd.DataFrame(sess_ephys)"
   ]
  },
  {
   "cell_type": "markdown",
   "metadata": {},
   "source": [
    "The following code computes how many `ephys` sessions are considered `good_enough_for_brainwide_map`:\n",
    "- across *all* ephys sessions;\n",
    "- across the ephys sessions in the first-pass brainwide map for the repeated site."
   ]
  },
  {
   "cell_type": "code",
   "execution_count": 4,
   "metadata": {},
   "outputs": [
    {
     "name": "stdout",
     "output_type": "stream",
     "text": [
      "Total # of ephys sessions: 208\n",
      "Total # of sessions good_enough_for_brainwide_map: 120 (57.7 %)\n",
      "Total # of ephys sessions in first pass map, repeated site: 20\n",
      "Total # of sessions good_enough_for_brainwide_map in first pass map, repeated site: 11 (55.0 %)\n"
     ]
    }
   ],
   "source": [
    "session_dates = df['session_start_time'].apply(lambda x : x.strftime(\"%Y-%m-%d\"))\n",
    "\n",
    "# First, count all mice\n",
    "\n",
    "total = len(df.index)\n",
    "good_enough = np.sum(df['good_enough_for_brainwide_map'])\n",
    "prc = good_enough / total * 100\n",
    "print('Total # of ephys sessions: '+ str(total))\n",
    "print('Total # of sessions good_enough_for_brainwide_map: ' + str(good_enough) + ' (' + \"{:.1f}\".format(prc) + ' %)')\n",
    "\n",
    "# Now, consider only mice in the first pass map, repeated site\n",
    "\n",
    "count = 0\n",
    "for (mouse_name,session_date) in first_pass_map_repeated:\n",
    "    tmp = df[(df['subject_nickname']  == mouse_name) & (session_dates == session_date)]\n",
    "    count = count + np.sum(tmp['good_enough_for_brainwide_map'])\n",
    "    \n",
    "total = len(first_pass_map_repeated)\n",
    "good_enough = count\n",
    "prc = good_enough / total * 100\n",
    "print('Total # of ephys sessions in first pass map, repeated site: '+ str(total))\n",
    "print('Total # of sessions good_enough_for_brainwide_map in first pass map, repeated site: ' + str(good_enough) + ' (' + \"{:.1f}\".format(prc) + ' %)')\n"
   ]
  }
 ],
 "metadata": {
  "kernelspec": {
   "display_name": "Python 3",
   "language": "python",
   "name": "python3"
  },
  "language_info": {
   "codemirror_mode": {
    "name": "ipython",
    "version": 3
   },
   "file_extension": ".py",
   "mimetype": "text/x-python",
   "name": "python",
   "nbconvert_exporter": "python",
   "pygments_lexer": "ipython3",
   "version": "3.7.7"
  }
 },
 "nbformat": 4,
 "nbformat_minor": 2
}
