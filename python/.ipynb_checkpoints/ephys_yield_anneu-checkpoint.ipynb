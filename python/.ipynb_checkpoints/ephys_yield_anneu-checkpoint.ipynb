{
 "cells": [
  {
   "cell_type": "code",
   "execution_count": null,
   "metadata": {},
   "outputs": [],
   "source": [
    "# GENERAL THINGS FOR COMPUTING AND PLOTTING\n",
    "import pandas as pd\n",
    "import numpy as np\n",
    "import os, sys, time\n",
    "from datetime import datetime\n",
    "from datetime import timedelta\n",
    "import scipy as sp\n",
    "\n",
    "# visualisation\n",
    "import matplotlib.pyplot as plt\n",
    "import seaborn as sns\n",
    "sns.set(style=\"ticks\", context=\"talk\")\n",
    "\n",
    "# ibl specific things\n",
    "import datajoint as dj\n",
    "from ibl_pipeline import reference, subject, action, acquisition, data, behavior\n",
    "from ibl_pipeline.analyses import behavior as behavioral_analyses\n"
   ]
  },
  {
   "cell_type": "code",
   "execution_count": 2,
   "metadata": {},
   "outputs": [
    {
     "name": "stdout",
     "output_type": "stream",
     "text": [
      "# of animals in brainwide project:\n"
     ]
    },
    {
     "data": {
      "text/plain": [
       "15"
      ]
     },
     "execution_count": 2,
     "metadata": {},
     "output_type": "execute_result"
    }
   ],
   "source": [
    "# all mice that started training\n",
    "# leave out mice in the brain-wide project that got too old before the ephys setup was ready...\n",
    "all_mice = (subject.Subject & 'subject_birth_date > \"2019-03-01\"') \\\n",
    "    * (subject.SubjectProject & 'subject_project = \"ibl_neuropixel_brainwide_01\"') \\\n",
    "    * (subject.SubjectLab & 'lab_name = \"churchlandlab\"')\n",
    "all_mice = all_mice.fetch(format='frame').reset_index()\n",
    "print('# of animals in brainwide project:')\n",
    "all_mice.subject_nickname.nunique()\n"
   ]
  },
  {
   "cell_type": "code",
   "execution_count": 3,
   "metadata": {},
   "outputs": [
    {
     "name": "stdout",
     "output_type": "stream",
     "text": [
      "# of animals with ephys sessions:\n"
     ]
    },
    {
     "data": {
      "text/plain": [
       "10"
      ]
     },
     "execution_count": 3,
     "metadata": {},
     "output_type": "execute_result"
    }
   ],
   "source": [
    "# all mice that made it to ready4ephys\n",
    "all_ephys_sess = (subject.Subject & 'subject_birth_date > \"2019-03-01\"') \\\n",
    "    * (subject.SubjectProject & 'subject_project = \"ibl_neuropixel_brainwide_01\"') \\\n",
    "    * (subject.SubjectLab & 'lab_name = \"churchlandlab\"') \\\n",
    "    * (acquisition.Session & 'task_protocol LIKE \"%ephysChoice%\"')\n",
    "all_ephys_sess = all_ephys_sess.fetch(format='frame').reset_index()\n",
    "print('# of animals with ephys sessions:')\n",
    "all_ephys_sess.subject_nickname.nunique()\n"
   ]
  },
  {
   "cell_type": "code",
   "execution_count": 4,
   "metadata": {},
   "outputs": [
    {
     "name": "stdout",
     "output_type": "stream",
     "text": [
      "animals without any ephys data:\n"
     ]
    },
    {
     "data": {
      "text/plain": [
       "['CSHL046', 'CSHL048', 'CSHL056', 'CSHL057', 'CSHL058']"
      ]
     },
     "execution_count": 4,
     "metadata": {},
     "output_type": "execute_result"
    }
   ],
   "source": [
    "animals_noephys = list(set(all_mice.subject_nickname.unique()) - set(all_ephys_sess.subject_nickname.unique()))\n",
    "print('animals without any ephys data:')\n",
    "sorted(animals_noephys)"
   ]
  },
  {
   "cell_type": "markdown",
   "metadata": {},
   "source": [
    "#### animals that never made it to ephys \n",
    "\n",
    "* CSHL048: issue during headbar implant surgery, never started training\n",
    "* CSHL056: experimental well from tip of centrifuge tube, infection on skull\n",
    "* CSHL057: experimental well from tip of centrifuge tube, infection on skull\n",
    "\n",
    "* CSHL046: has not reached ready4ephysRig, now > 7 months\n",
    "* CSHL058: now on biasedCW, will hopefully still record\n"
   ]
  },
  {
   "cell_type": "code",
   "execution_count": 5,
   "metadata": {},
   "outputs": [
    {
     "name": "stdout",
     "output_type": "stream",
     "text": [
      "average number of sessions per mouse:\n",
      "4.9\n"
     ]
    },
    {
     "data": {
      "text/html": [
       "<div>\n",
       "<style scoped>\n",
       "    .dataframe tbody tr th:only-of-type {\n",
       "        vertical-align: middle;\n",
       "    }\n",
       "\n",
       "    .dataframe tbody tr th {\n",
       "        vertical-align: top;\n",
       "    }\n",
       "\n",
       "    .dataframe thead th {\n",
       "        text-align: right;\n",
       "    }\n",
       "</style>\n",
       "<table border=\"1\" class=\"dataframe\">\n",
       "  <thead>\n",
       "    <tr style=\"text-align: right;\">\n",
       "      <th></th>\n",
       "      <th>subject_nickname</th>\n",
       "      <th>session_start_time</th>\n",
       "    </tr>\n",
       "  </thead>\n",
       "  <tbody>\n",
       "    <tr>\n",
       "      <td>6</td>\n",
       "      <td>CSHL054</td>\n",
       "      <td>2</td>\n",
       "    </tr>\n",
       "    <tr>\n",
       "      <td>7</td>\n",
       "      <td>CSHL055</td>\n",
       "      <td>2</td>\n",
       "    </tr>\n",
       "    <tr>\n",
       "      <td>3</td>\n",
       "      <td>CSHL051</td>\n",
       "      <td>4</td>\n",
       "    </tr>\n",
       "    <tr>\n",
       "      <td>9</td>\n",
       "      <td>CSHL060</td>\n",
       "      <td>4</td>\n",
       "    </tr>\n",
       "    <tr>\n",
       "      <td>8</td>\n",
       "      <td>CSHL059</td>\n",
       "      <td>5</td>\n",
       "    </tr>\n",
       "    <tr>\n",
       "      <td>0</td>\n",
       "      <td>CSHL045</td>\n",
       "      <td>6</td>\n",
       "    </tr>\n",
       "    <tr>\n",
       "      <td>1</td>\n",
       "      <td>CSHL047</td>\n",
       "      <td>6</td>\n",
       "    </tr>\n",
       "    <tr>\n",
       "      <td>4</td>\n",
       "      <td>CSHL052</td>\n",
       "      <td>6</td>\n",
       "    </tr>\n",
       "    <tr>\n",
       "      <td>5</td>\n",
       "      <td>CSHL053</td>\n",
       "      <td>6</td>\n",
       "    </tr>\n",
       "    <tr>\n",
       "      <td>2</td>\n",
       "      <td>CSHL049</td>\n",
       "      <td>8</td>\n",
       "    </tr>\n",
       "  </tbody>\n",
       "</table>\n",
       "</div>"
      ],
      "text/plain": [
       "  subject_nickname  session_start_time\n",
       "6          CSHL054                   2\n",
       "7          CSHL055                   2\n",
       "3          CSHL051                   4\n",
       "9          CSHL060                   4\n",
       "8          CSHL059                   5\n",
       "0          CSHL045                   6\n",
       "1          CSHL047                   6\n",
       "4          CSHL052                   6\n",
       "5          CSHL053                   6\n",
       "2          CSHL049                   8"
      ]
     },
     "execution_count": 5,
     "metadata": {},
     "output_type": "execute_result"
    }
   ],
   "source": [
    "### for those mice with ephys data, how many sessions?\n",
    "print('average number of sessions per mouse:')\n",
    "print(all_ephys_sess.groupby(['subject_nickname'])['session_start_time'].count().mean())\n",
    "\n",
    "all_ephys_sess.groupby(['subject_nickname'])['session_start_time'].count().reset_index().sort_values(by='session_start_time')"
   ]
  },
  {
   "cell_type": "markdown",
   "metadata": {},
   "source": [
    "### cull/ephys end reasons\n",
    "\n",
    "##### bad animals\n",
    "* CSHL054: session 1 great. session 2 terrible behavior, mouse looks like it's in pain\n",
    "* CSHL055 (honeycomb): session 1 great, session 2 awful. mouse lost weight, lethargic, died 4 days after craniotomy surgery\n",
    "* CSHL051: when attempting to do second cranio surgery with punch, skull broke. emergency perfusion.\n",
    "\n",
    "##### good animals\n",
    "* CSHL059: no more sites to go into the brain\n",
    "* CSHL045: \n",
    "* CSHL047:\n",
    "* CSHL052: honeycomb; quite a lot of blood in cranio but behavior great.\n",
    "* CSHL053: \n",
    "* CSHL049: \n",
    "* CSHL060: still recording (will have 7 sessions)\n"
   ]
  },
  {
   "cell_type": "code",
   "execution_count": 6,
   "metadata": {},
   "outputs": [
    {
     "ename": "NameError",
     "evalue": "name 'probe' is not defined",
     "output_type": "error",
     "traceback": [
      "\u001b[0;31m---------------------------------------------------------------------------\u001b[0m",
      "\u001b[0;31mNameError\u001b[0m                                 Traceback (most recent call last)",
      "\u001b[0;32m<ipython-input-6-682d355640e4>\u001b[0m in \u001b[0;36m<module>\u001b[0;34m\u001b[0m\n\u001b[1;32m      4\u001b[0m     \u001b[0;34m*\u001b[0m \u001b[0;34m(\u001b[0m\u001b[0msubject\u001b[0m\u001b[0;34m.\u001b[0m\u001b[0mSubjectLab\u001b[0m \u001b[0;34m&\u001b[0m \u001b[0;34m'lab_name = \"churchlandlab\"'\u001b[0m\u001b[0;34m)\u001b[0m\u001b[0;31m \u001b[0m\u001b[0;31m\\\u001b[0m\u001b[0;34m\u001b[0m\u001b[0;34m\u001b[0m\u001b[0m\n\u001b[1;32m      5\u001b[0m     \u001b[0;34m*\u001b[0m \u001b[0;34m(\u001b[0m\u001b[0macquisition\u001b[0m\u001b[0;34m.\u001b[0m\u001b[0mSession\u001b[0m \u001b[0;34m&\u001b[0m \u001b[0;34m'task_protocol LIKE \"%ephysChoice%\"'\u001b[0m\u001b[0;34m)\u001b[0m\u001b[0;31m \u001b[0m\u001b[0;31m\\\u001b[0m\u001b[0;34m\u001b[0m\u001b[0;34m\u001b[0m\u001b[0m\n\u001b[0;32m----> 6\u001b[0;31m     \u001b[0;34m*\u001b[0m \u001b[0mprobe\u001b[0m\u001b[0;34m\u001b[0m\u001b[0;34m\u001b[0m\u001b[0m\n\u001b[0m\u001b[1;32m      7\u001b[0m \u001b[0mall_ephys_sess\u001b[0m \u001b[0;34m=\u001b[0m \u001b[0mall_ephys_sess\u001b[0m\u001b[0;34m.\u001b[0m\u001b[0mfetch\u001b[0m\u001b[0;34m(\u001b[0m\u001b[0mformat\u001b[0m\u001b[0;34m=\u001b[0m\u001b[0;34m'frame'\u001b[0m\u001b[0;34m)\u001b[0m\u001b[0;34m.\u001b[0m\u001b[0mreset_index\u001b[0m\u001b[0;34m(\u001b[0m\u001b[0;34m)\u001b[0m\u001b[0;34m\u001b[0m\u001b[0;34m\u001b[0m\u001b[0m\n\u001b[1;32m      8\u001b[0m \u001b[0mprint\u001b[0m\u001b[0;34m(\u001b[0m\u001b[0;34m'# of animals with ephys sessions:'\u001b[0m\u001b[0;34m)\u001b[0m\u001b[0;34m\u001b[0m\u001b[0;34m\u001b[0m\u001b[0m\n",
      "\u001b[0;31mNameError\u001b[0m: name 'probe' is not defined"
     ]
    }
   ],
   "source": [
    "# how many probes per ephys session?\n",
    "all_ephys_sess = (subject.Subject & 'subject_birth_date > \"2019-03-01\"') \\\n",
    "    * (subject.SubjectProject & 'subject_project = \"ibl_neuropixel_brainwide_01\"') \\\n",
    "    * (subject.SubjectLab & 'lab_name = \"churchlandlab\"') \\\n",
    "    * (acquisition.Session & 'task_protocol LIKE \"%ephysChoice%\"') \\\n",
    "    * probe\n",
    "all_ephys_sess = all_ephys_sess.fetch(format='frame').reset_index()\n",
    "print('# of animals with ephys sessions:')\n",
    "all_ephys_sess.subject_nickname.nunique()\n"
   ]
  },
  {
   "cell_type": "code",
   "execution_count": null,
   "metadata": {},
   "outputs": [],
   "source": []
  }
 ],
 "metadata": {
  "kernelspec": {
   "display_name": "Python [conda env:djenv] *",
   "language": "python",
   "name": "conda-env-djenv-py"
  },
  "language_info": {
   "codemirror_mode": {
    "name": "ipython",
    "version": 3
   },
   "file_extension": ".py",
   "mimetype": "text/x-python",
   "name": "python",
   "nbconvert_exporter": "python",
   "pygments_lexer": "ipython3",
   "version": "3.7.4"
  }
 },
 "nbformat": 4,
 "nbformat_minor": 2
}
