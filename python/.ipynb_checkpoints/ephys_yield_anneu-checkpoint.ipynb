{
 "cells": [
  {
   "cell_type": "code",
   "execution_count": 1,
   "metadata": {},
   "outputs": [
    {
     "name": "stdout",
     "output_type": "stream",
     "text": [
      "Connecting anneurai@datajoint.internationalbrainlab.org:3306\n"
     ]
    }
   ],
   "source": [
    "# GENERAL THINGS FOR COMPUTING AND PLOTTING\n",
    "import pandas as pd\n",
    "import numpy as np\n",
    "import os, sys, time\n",
    "from datetime import datetime\n",
    "from datetime import timedelta\n",
    "import scipy as sp\n",
    "\n",
    "# visualisation\n",
    "import matplotlib.pyplot as plt\n",
    "import seaborn as sns\n",
    "sns.set(style=\"ticks\", context=\"talk\")\n",
    "\n",
    "# ibl specific things\n",
    "import datajoint as dj\n",
    "from ibl_pipeline import reference, subject, action, acquisition, data, behavior\n",
    "from ibl_pipeline.analyses import behavior as behavioral_analyses\n"
   ]
  },
  {
   "cell_type": "code",
   "execution_count": 2,
   "metadata": {},
   "outputs": [
    {
     "name": "stdout",
     "output_type": "stream",
     "text": [
      "# of animals in brainwide project:\n"
     ]
    },
    {
     "data": {
      "text/plain": [
       "15"
      ]
     },
     "execution_count": 2,
     "metadata": {},
     "output_type": "execute_result"
    }
   ],
   "source": [
    "# all mice that started training\n",
    "# leave out mice in the brain-wide project that got too old before the ephys setup was ready...\n",
    "all_mice = (subject.Subject & 'subject_birth_date > \"2019-03-01\"') \\\n",
    "    * (subject.SubjectProject & 'subject_project = \"ibl_neuropixel_brainwide_01\"') \\\n",
    "    * (subject.SubjectLab & 'lab_name = \"churchlandlab\"')\n",
    "all_mice = all_mice.fetch(format='frame').reset_index()\n",
    "print('# of animals in brainwide project:')\n",
    "all_mice.subject_nickname.nunique()\n"
   ]
  },
  {
   "cell_type": "code",
   "execution_count": 3,
   "metadata": {},
   "outputs": [
    {
     "name": "stdout",
     "output_type": "stream",
     "text": [
      "# of animals with ephys sessions:\n"
     ]
    },
    {
     "data": {
      "text/plain": [
       "10"
      ]
     },
     "execution_count": 3,
     "metadata": {},
     "output_type": "execute_result"
    }
   ],
   "source": [
    "# all mice that made it to ready4ephys\n",
    "all_ephys_sess = (subject.Subject & 'subject_birth_date > \"2019-03-01\"') \\\n",
    "    * (subject.SubjectProject & 'subject_project = \"ibl_neuropixel_brainwide_01\"') \\\n",
    "    * (subject.SubjectLab & 'lab_name = \"churchlandlab\"') \\\n",
    "    * (acquisition.Session & 'task_protocol LIKE \"%ephysChoice%\"')\n",
    "all_ephys_sess = all_ephys_sess.fetch(format='frame').reset_index()\n",
    "print('# of animals with ephys sessions:')\n",
    "all_ephys_sess.subject_nickname.nunique()\n"
   ]
  },
  {
   "cell_type": "code",
   "execution_count": 4,
   "metadata": {},
   "outputs": [
    {
     "name": "stdout",
     "output_type": "stream",
     "text": [
      "animals without any ephys data:\n"
     ]
    },
    {
     "data": {
      "text/plain": [
       "['CSHL046', 'CSHL048', 'CSHL056', 'CSHL057', 'CSHL058']"
      ]
     },
     "execution_count": 4,
     "metadata": {},
     "output_type": "execute_result"
    }
   ],
   "source": [
    "animals_noephys = list(set(all_mice.subject_nickname.unique()) - set(all_ephys_sess.subject_nickname.unique()))\n",
    "print('animals without any ephys data:')\n",
    "sorted(animals_noephys)"
   ]
  },
  {
   "cell_type": "markdown",
   "metadata": {},
   "source": [
    "#### animals that never made it to ephys \n",
    "\n",
    "* CSHL048: issue during headbar implant surgery, never started training\n",
    "* CSHL056: experimental well from tip of centrifuge tube, infection on skull\n",
    "* CSHL057: experimental well from tip of centrifuge tube, infection on skull\n",
    "\n",
    "* CSHL046: has not reached ready4ephysRig, now > 7 months\n",
    "* CSHL058: now on biasedCW, will hopefully still record\n"
   ]
  },
  {
   "cell_type": "code",
   "execution_count": 5,
   "metadata": {},
   "outputs": [
    {
     "name": "stdout",
     "output_type": "stream",
     "text": [
      "average number of sessions per mouse:\n",
      "4.9\n"
     ]
    },
    {
     "data": {
      "text/html": [
       "<div>\n",
       "<style scoped>\n",
       "    .dataframe tbody tr th:only-of-type {\n",
       "        vertical-align: middle;\n",
       "    }\n",
       "\n",
       "    .dataframe tbody tr th {\n",
       "        vertical-align: top;\n",
       "    }\n",
       "\n",
       "    .dataframe thead th {\n",
       "        text-align: right;\n",
       "    }\n",
       "</style>\n",
       "<table border=\"1\" class=\"dataframe\">\n",
       "  <thead>\n",
       "    <tr style=\"text-align: right;\">\n",
       "      <th></th>\n",
       "      <th>subject_nickname</th>\n",
       "      <th>session_start_time</th>\n",
       "    </tr>\n",
       "  </thead>\n",
       "  <tbody>\n",
       "    <tr>\n",
       "      <td>0</td>\n",
       "      <td>CSHL045</td>\n",
       "      <td>6</td>\n",
       "    </tr>\n",
       "    <tr>\n",
       "      <td>1</td>\n",
       "      <td>CSHL047</td>\n",
       "      <td>6</td>\n",
       "    </tr>\n",
       "    <tr>\n",
       "      <td>2</td>\n",
       "      <td>CSHL049</td>\n",
       "      <td>8</td>\n",
       "    </tr>\n",
       "    <tr>\n",
       "      <td>3</td>\n",
       "      <td>CSHL051</td>\n",
       "      <td>4</td>\n",
       "    </tr>\n",
       "    <tr>\n",
       "      <td>4</td>\n",
       "      <td>CSHL052</td>\n",
       "      <td>6</td>\n",
       "    </tr>\n",
       "    <tr>\n",
       "      <td>5</td>\n",
       "      <td>CSHL053</td>\n",
       "      <td>6</td>\n",
       "    </tr>\n",
       "    <tr>\n",
       "      <td>6</td>\n",
       "      <td>CSHL054</td>\n",
       "      <td>2</td>\n",
       "    </tr>\n",
       "    <tr>\n",
       "      <td>7</td>\n",
       "      <td>CSHL055</td>\n",
       "      <td>2</td>\n",
       "    </tr>\n",
       "    <tr>\n",
       "      <td>8</td>\n",
       "      <td>CSHL059</td>\n",
       "      <td>5</td>\n",
       "    </tr>\n",
       "    <tr>\n",
       "      <td>9</td>\n",
       "      <td>CSHL060</td>\n",
       "      <td>4</td>\n",
       "    </tr>\n",
       "  </tbody>\n",
       "</table>\n",
       "</div>"
      ],
      "text/plain": [
       "  subject_nickname  session_start_time\n",
       "0          CSHL045                   6\n",
       "1          CSHL047                   6\n",
       "2          CSHL049                   8\n",
       "3          CSHL051                   4\n",
       "4          CSHL052                   6\n",
       "5          CSHL053                   6\n",
       "6          CSHL054                   2\n",
       "7          CSHL055                   2\n",
       "8          CSHL059                   5\n",
       "9          CSHL060                   4"
      ]
     },
     "execution_count": 5,
     "metadata": {},
     "output_type": "execute_result"
    }
   ],
   "source": [
    "### for those mice with ephys data, how many sessions?\n",
    "print('average number of sessions per mouse:')\n",
    "print(all_ephys_sess.groupby(['subject_nickname'])['session_start_time'].nunique().mean())\n",
    "\n",
    "all_ephys_sess.groupby(['subject_nickname'])['session_start_time'].nunique().reset_index().sort_values(by='subject_nickname')"
   ]
  },
  {
   "cell_type": "markdown",
   "metadata": {},
   "source": [
    "### cull/ephys end reasons\n",
    "\n",
    "##### bad animals\n",
    "* CSHL054: session 1 great. session 2 terrible behavior, mouse looks like it's in pain\n",
    "* CSHL055 (honeycomb): session 1 great, session 2 awful. mouse lost weight, lethargic, died 4 days after craniotomy surgery\n",
    "* CSHL051: when attempting to do second cranio surgery with punch, skull broke. emergency perfusion.\n",
    "\n",
    "##### good animals\n",
    "* CSHL059: no more sites to go into the brain\n",
    "* CSHL045: \n",
    "* CSHL047:\n",
    "* CSHL052: honeycomb; quite a lot of blood in cranio but behavior great.\n",
    "* CSHL053: \n",
    "* CSHL049: \n",
    "* CSHL060: still ingesting (has 6 sessions)\n"
   ]
  },
  {
   "cell_type": "code",
   "execution_count": 6,
   "metadata": {},
   "outputs": [],
   "source": [
    "# how many probes per ephys session?\n",
    "ephys = dj.create_virtual_module('ephys', 'ibl_ephys')\n",
    "\n",
    "all_ephys_sess = (subject.Subject & 'subject_birth_date > \"2019-03-01\"') \\\n",
    "    * (subject.SubjectProject & 'subject_project = \"ibl_neuropixel_brainwide_01\"') \\\n",
    "    * (subject.SubjectLab & 'lab_name = \"churchlandlab\"') \\\n",
    "    * (acquisition.Session & 'task_protocol LIKE \"%ephysChoice%\"') \\\n",
    "    * ephys.ProbeInsertion * (ephys.ProbeTrajectory & 'insertion_data_source = \"Micro-manipulator\"')\n",
    "all_ephys_sess = all_ephys_sess.fetch(format='frame').reset_index()"
   ]
  },
  {
   "cell_type": "code",
   "execution_count": 26,
   "metadata": {},
   "outputs": [
    {
     "name": "stdout",
     "output_type": "stream",
     "text": [
      "average number of penetrations per mouse:\n",
      "7.0\n"
     ]
    },
    {
     "data": {
      "text/html": [
       "<div>\n",
       "<style scoped>\n",
       "    .dataframe tbody tr th:only-of-type {\n",
       "        vertical-align: middle;\n",
       "    }\n",
       "\n",
       "    .dataframe tbody tr th {\n",
       "        vertical-align: top;\n",
       "    }\n",
       "\n",
       "    .dataframe thead th {\n",
       "        text-align: right;\n",
       "    }\n",
       "</style>\n",
       "<table border=\"1\" class=\"dataframe\">\n",
       "  <thead>\n",
       "    <tr style=\"text-align: right;\">\n",
       "      <th></th>\n",
       "      <th>subject_nickname</th>\n",
       "      <th>num_sessions</th>\n",
       "      <th>num_penetrations</th>\n",
       "    </tr>\n",
       "  </thead>\n",
       "  <tbody>\n",
       "    <tr>\n",
       "      <td>0</td>\n",
       "      <td>CSHL045</td>\n",
       "      <td>4</td>\n",
       "      <td>7</td>\n",
       "    </tr>\n",
       "    <tr>\n",
       "      <td>1</td>\n",
       "      <td>CSHL047</td>\n",
       "      <td>5</td>\n",
       "      <td>9</td>\n",
       "    </tr>\n",
       "    <tr>\n",
       "      <td>2</td>\n",
       "      <td>CSHL049</td>\n",
       "      <td>6</td>\n",
       "      <td>9</td>\n",
       "    </tr>\n",
       "    <tr>\n",
       "      <td>3</td>\n",
       "      <td>CSHL051</td>\n",
       "      <td>4</td>\n",
       "      <td>8</td>\n",
       "    </tr>\n",
       "    <tr>\n",
       "      <td>4</td>\n",
       "      <td>CSHL052</td>\n",
       "      <td>5</td>\n",
       "      <td>8</td>\n",
       "    </tr>\n",
       "    <tr>\n",
       "      <td>5</td>\n",
       "      <td>CSHL053</td>\n",
       "      <td>4</td>\n",
       "      <td>7</td>\n",
       "    </tr>\n",
       "    <tr>\n",
       "      <td>6</td>\n",
       "      <td>CSHL054</td>\n",
       "      <td>2</td>\n",
       "      <td>3</td>\n",
       "    </tr>\n",
       "    <tr>\n",
       "      <td>7</td>\n",
       "      <td>CSHL055</td>\n",
       "      <td>2</td>\n",
       "      <td>4</td>\n",
       "    </tr>\n",
       "    <tr>\n",
       "      <td>8</td>\n",
       "      <td>CSHL059</td>\n",
       "      <td>5</td>\n",
       "      <td>9</td>\n",
       "    </tr>\n",
       "    <tr>\n",
       "      <td>9</td>\n",
       "      <td>CSHL060</td>\n",
       "      <td>3</td>\n",
       "      <td>6</td>\n",
       "    </tr>\n",
       "  </tbody>\n",
       "</table>\n",
       "</div>"
      ],
      "text/plain": [
       "  subject_nickname  num_sessions  num_penetrations\n",
       "0          CSHL045             4                 7\n",
       "1          CSHL047             5                 9\n",
       "2          CSHL049             6                 9\n",
       "3          CSHL051             4                 8\n",
       "4          CSHL052             5                 8\n",
       "5          CSHL053             4                 7\n",
       "6          CSHL054             2                 3\n",
       "7          CSHL055             2                 4\n",
       "8          CSHL059             5                 9\n",
       "9          CSHL060             3                 6"
      ]
     },
     "execution_count": 26,
     "metadata": {},
     "output_type": "execute_result"
    }
   ],
   "source": [
    "### for those mice with ephys data, how many sessions?\n",
    "yield_permouse = all_ephys_sess.groupby(['subject_nickname'])['session_start_time', 'probe_trajectory_uuid'].nunique().reset_index()\n",
    "yield_permouse.rename(columns={'session_start_time':'num_sessions', 'probe_trajectory_uuid':'num_penetrations'}, inplace=True)\n",
    "assert ((yield_permouse['num_sessions'] * 2 >= yield_permouse['num_penetrations']).all() == True)\n",
    "\n",
    "print('average number of penetrations per mouse:')\n",
    "print(yield_permouse['num_penetrations'].mean())\n",
    "\n",
    "yield_permouse.sort_values(by='subject_nickname')"
   ]
  },
  {
   "cell_type": "code",
   "execution_count": 25,
   "metadata": {},
   "outputs": [],
   "source": []
  },
  {
   "cell_type": "code",
   "execution_count": null,
   "metadata": {},
   "outputs": [],
   "source": []
  }
 ],
 "metadata": {
  "kernelspec": {
   "display_name": "Python [conda env:djenv] *",
   "language": "python",
   "name": "conda-env-djenv-py"
  },
  "language_info": {
   "codemirror_mode": {
    "name": "ipython",
    "version": 3
   },
   "file_extension": ".py",
   "mimetype": "text/x-python",
   "name": "python",
   "nbconvert_exporter": "python",
   "pygments_lexer": "ipython3",
   "version": "3.7.4"
  }
 },
 "nbformat": 4,
 "nbformat_minor": 2
}
