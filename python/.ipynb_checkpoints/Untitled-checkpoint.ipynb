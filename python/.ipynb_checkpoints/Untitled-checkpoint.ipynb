{
 "cells": [
  {
   "cell_type": "code",
   "execution_count": 1,
   "metadata": {},
   "outputs": [],
   "source": [
    "import numpy as np\n",
    "import matplotlib.pyplot as plt\n",
    "import brainbox as bb\n",
    "import pandas as pd\n",
    "import pickle\n",
    "import itertools\n",
    "import alf.io\n",
    "from oneibl.one import ONE\n",
    "from brainbox.io.one import load_spike_sorting\n",
    "import seaborn as sns\n",
    "import time\n",
    "from sklearn.manifold import TSNE\n",
    "from sklearn.decomposition import PCA\n",
    "import seaborn as sns\n",
    "from sklearn.cluster import DBSCAN"
   ]
  },
  {
   "cell_type": "code",
   "execution_count": 2,
   "metadata": {},
   "outputs": [
    {
     "name": "stdout",
     "output_type": "stream",
     "text": [
      "Will try to compare 19 data sets\n",
      "Connected to https://alyx.internationalbrainlab.org as sebastian\n"
     ]
    }
   ],
   "source": [
    "eids = ['ee40aece-cffd-4edb-a4b6-155f158c666a', '4b7fbad4-f6de-43b4-9b15-c7c7ef44db4b', '89f0d6ff-69f4-45bc-b89e-72868abb042a', 'ecb5520d-1358-434c-95ec-93687ecd1396', 'aad23144-0e52-4eac-80c5-c4ee2decb198', '572a95d1-39ca-42e1-8424-5c9ffcb2df87', '57fd2325-67f4-4d45-9907-29e77d3043d7', '38d95489-2e82-412a-8c1a-c5377b5f1555', 'a8a8af78-16de-4841-ab07-fde4b5281a03', 'ebe090af-5922-4fcd-8fc6-17b8ba7bad6d', '4153bd83-2168-4bd4-a15c-f7e82f3f73fb', '614e1937-4b24-4ad3-9055-c8253d089919', '4b00df29-3769-43be-bb40-128b1cba6d35', 'dfd8e7df-dc51-4589-b6ca-7baccfeb94b4', 'db4df448-e449-4a6f-a0e7-288711e7a75a', '266a0360-ea0a-4580-8f6a-fe5bad9ed17c', '0f25376f-2b78-4ddc-8c39-b6cdbe7bf5b9', 'dda5fc59-f09a-4256-9fb5-66c67667a466', '9a629642-3a9c-42ed-b70a-532db0e86199']\n",
    "labs = []\n",
    "\n",
    "print(\"Will try to compare {} data sets\".format(len(eids)))\n",
    "\n",
    "probes = [\"probe00\", \"probe00\", \"probe00\", \"probe00\", \"probe01\", \"probe01\", \"probe00\", \"probe01\", \"probe00\", \"probe01\", \"probe00\", \"probe01\", \"probe00\", \"probe00\", \"probe00\", \"probe00\", \"probe00\", \"probe00\", \"probe00\"]\n",
    "bad_eids = ['9a629642-3a9c-42ed-b70a-532db0e86199', 'ebe090af-5922-4fcd-8fc6-17b8ba7bad6d', 'ee40aece-cffd-4edb-a4b6-155f158c666a', 'db4df448-e449-4a6f-a0e7-288711e7a75a', '0f25376f-2b78-4ddc-8c39-b6cdbe7bf5b9']\n",
    "one = ONE()\n"
   ]
  },
  {
   "cell_type": "code",
   "execution_count": 3,
   "metadata": {},
   "outputs": [],
   "source": [
    "i = 0\n",
    "eid = eids[i]\n",
    "probe = probes[i]"
   ]
  },
  {
   "cell_type": "code",
   "execution_count": 10,
   "metadata": {},
   "outputs": [
    {
     "name": "stderr",
     "output_type": "stream",
     "text": [
      "\u001b[01;33m2020-03-22 16:55:56.715 WARNING  [one.py:331] dataset clusters.channels not found for session: ee40aece-cffd-4edb-a4b6-155f158c666a\u001b[0m\n",
      "\u001b[01;33m2020-03-22 16:55:56.716 WARNING  [one.py:331] dataset clusters.depths not found for session: ee40aece-cffd-4edb-a4b6-155f158c666a\u001b[0m\n",
      "\u001b[01;33m2020-03-22 16:55:56.717 WARNING  [one.py:331] dataset clusters.metrics not found for session: ee40aece-cffd-4edb-a4b6-155f158c666a\u001b[0m\n",
      "\u001b[01;33m2020-03-22 16:55:56.718 WARNING  [one.py:331] dataset spikes.clusters not found for session: ee40aece-cffd-4edb-a4b6-155f158c666a\u001b[0m\n",
      "\u001b[01;33m2020-03-22 16:55:56.719 WARNING  [one.py:331] dataset spikes.times not found for session: ee40aece-cffd-4edb-a4b6-155f158c666a\u001b[0m\n",
      "\u001b[01;33m2020-03-22 16:55:56.719 WARNING  [one.py:331] dataset probes.description not found for session: ee40aece-cffd-4edb-a4b6-155f158c666a\u001b[0m\n"
     ]
    },
    {
     "name": "stdout",
     "output_type": "stream",
     "text": [
      "no probes\n",
      "(None, None)\n"
     ]
    },
    {
     "name": "stderr",
     "output_type": "stream",
     "text": [
      "\u001b[01;33m2020-03-22 16:56:00.639 WARNING  [one.py:331] dataset clusters.depths not found for session: ee40aece-cffd-4edb-a4b6-155f158c666a\u001b[0m\n"
     ]
    },
    {
     "ename": "SyntaxError",
     "evalue": "'continue' not properly in loop (<ipython-input-10-203e6566da6c>, line 22)",
     "output_type": "error",
     "traceback": [
      "\u001b[0;36m  File \u001b[0;32m\"<ipython-input-10-203e6566da6c>\"\u001b[0;36m, line \u001b[0;32m22\u001b[0m\n\u001b[0;31m    continue\u001b[0m\n\u001b[0m    ^\u001b[0m\n\u001b[0;31mSyntaxError\u001b[0m\u001b[0;31m:\u001b[0m 'continue' not properly in loop\n"
     ]
    }
   ],
   "source": [
    "spikes, _ = load_spike_sorting(eid, one=one)\n",
    "print(spikes)\n",
    "spikes = spikes[0]\n",
    "\n",
    "\n",
    "#spikes, clusters = spikes[probe]['times'], spikes[probe]['clusters']\n",
    "\n",
    "\n",
    "times_stimon = one.load(eid, dataset_types=['trials.stimOn_times'])[0]\n",
    "contrastRight = one.load(eid, dataset_types=['trials.contrastRight'])[0]\n",
    "times_feedback = one.load(eid, dataset_types=['trials.feedback_times'])[0]\n",
    "feedback = one.load(eid, dataset_types=['trials.feedbackType'])[0]\n",
    "depths = np.array(one.load(eid, dataset_types=['clusters.depths']))\n",
    "\n",
    "times = times_feedback[feedback == 1]\n",
    "times = times_stimon[(feedback == 1) & (np.nan_to_num(contrastRight) > 0)]\n",
    "\n",
    "session_path = one.path_from_eid(eid)\n",
    "if not session_path:\n",
    "    print(session_path)\n",
    "    print(\"no session path\")\n",
    "    quit()\n",
    "\n",
    "_ = one.load(eid, dataset_types='clusters.metrics', download_only=True)\n",
    "\n",
    "try:\n",
    "    _ = alf.io.load_object(session_path.joinpath('alf'), 'probes')\n",
    "except FileNotFoundError:\n",
    "    print(session_path.joinpath('alf'))\n",
    "    print(\"no probes\")\n",
    "    quit()\n",
    "\n",
    "probe_path = session_path.joinpath('alf', probe)\n",
    "try:\n",
    "    metrics = alf.io.load_object(probe_path, object='clusters.metrics')\n",
    "except FileNotFoundError:\n",
    "    print(probe_path)\n",
    "    print(\"one probe missing\")\n",
    "    quit()\n",
    "\n",
    "\n",
    "quality = metrics.metrics.ks2_label == 'good'\n",
    "\n",
    "\n",
    "for d in depths:\n",
    "    if d.shape[0] == np.max(np.unique(clusters)) + 1:\n",
    "        depths = d\n",
    "        break\n",
    "\n",
    "\n",
    "start = time.time()\n",
    "a, b = bb.singlecell.calculate_peths(spikes, clusters, quality.index[quality], times)\n",
    "print(time.time() - start)\n",
    "\n",
    "\n",
    "\"\"\"vals, indizes = np.unique(clusters, return_index=True)\n",
    "clusts = [clusters[i] for i in sorted(indizes)]\n",
    "depths = depths[np.argsort(np.flip(clusts))]  # interesting results, weirdly enough\"\"\"\n",
    "\n",
    "print(quality)\n",
    "depths = depths[quality]\n",
    "\n",
    "activity = np.sum(a.means, axis=1) != 0\n",
    "\n",
    "depths = depths[activity]\n",
    "a.means = a.means[activity]\n",
    "a.means = a.means[np.argsort(depths)]"
   ]
  },
  {
   "cell_type": "code",
   "execution_count": 7,
   "metadata": {},
   "outputs": [
    {
     "data": {
      "text/plain": [
       "<function brainbox.io.one.load_spike_sorting(eid, one=None, dataset_types=None)>"
      ]
     },
     "execution_count": 7,
     "metadata": {},
     "output_type": "execute_result"
    }
   ],
   "source": [
    "load_spike_sorting"
   ]
  },
  {
   "cell_type": "code",
   "execution_count": null,
   "metadata": {},
   "outputs": [],
   "source": []
  }
 ],
 "metadata": {
  "kernelspec": {
   "display_name": "Environment (conda_ibl_develop)",
   "language": "python",
   "name": "conda_ibl_develop"
  },
  "language_info": {
   "codemirror_mode": {
    "name": "ipython",
    "version": 3
   },
   "file_extension": ".py",
   "mimetype": "text/x-python",
   "name": "python",
   "nbconvert_exporter": "python",
   "pygments_lexer": "ipython3",
   "version": "3.8.1"
  }
 },
 "nbformat": 4,
 "nbformat_minor": 4
}
