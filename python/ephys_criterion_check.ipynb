{
 "cells": [
  {
   "cell_type": "markdown",
   "metadata": {},
   "source": [
    "# Analysis of how many mice pass *ephys* and other criteria\n",
    "\n",
    "Luigi Acerbi, Apr 2020\n",
    "(with inputs from Gaelle Chapuis and Anne Urai)\n",
    "\n",
    "This script performs analyses to check how many mice pass the currenty set criterion for ephys."
   ]
  },
  {
   "cell_type": "code",
   "execution_count": 1,
   "metadata": {},
   "outputs": [
    {
     "name": "stdout",
     "output_type": "stream",
     "text": [
      "Connecting lacerbi@datajoint.internationalbrainlab.org:3306\n",
      "Connected to https://alyx.internationalbrainlab.org as lacerbi\n"
     ]
    }
   ],
   "source": [
    "# Generally useful Python packages\n",
    "import numpy as np\n",
    "import pandas as pd\n",
    "import scipy as sp\n",
    "import os, sys, time\n",
    "\n",
    "# Visualization\n",
    "import matplotlib.pyplot as plt\n",
    "\n",
    "# IBL-specific packages\n",
    "import datajoint as dj\n",
    "dj.config['database.host'] = 'datajoint.internationalbrainlab.org'\n",
    "\n",
    "from ibl_pipeline import subject, acquisition, action, behavior, reference, data\n",
    "from ibl_pipeline.analyses.behavior import PsychResults, SessionTrainingStatus\n",
    "from ibl_pipeline.utils import psychofit as psy\n",
    "from ibl_pipeline.analyses import behavior as behavior_analysis\n",
    "ephys = dj.create_virtual_module('ephys', 'ibl_ephys')"
   ]
  },
  {
   "cell_type": "code",
   "execution_count": 2,
   "metadata": {},
   "outputs": [
    {
     "name": "stdout",
     "output_type": "stream",
     "text": [
      "Connected to https://alyx.internationalbrainlab.org as lacerbi\n"
     ]
    }
   ],
   "source": [
    "# Get list of subjects associated to the repeated site probe trajectory from ONE (original snippet from Gaelle Chapuis)\n",
    "from oneibl.one import ONE\n",
    "\n",
    "one = ONE()\n",
    "traj = one.alyx.rest('trajectories', 'list', provenance='Planned',\n",
    "                     x=-2243, y=-2000,  # repeated site coordinate\n",
    "                     project='ibl_neuropixel_brainwide_01')\n",
    "sess = [p['session'] for p in traj]\n",
    "\n",
    "first_pass_map_repeated = [(s['subject'],s['start_time'][0:10]) for s in sess]"
   ]
  },
  {
   "cell_type": "code",
   "execution_count": 3,
   "metadata": {},
   "outputs": [],
   "source": [
    "all_ephys_sessions = False # Analyze ALL sessions?\n",
    "\n",
    "if all_ephys_sessions:\n",
    "    # Download all ephys sessions from DataJoint\n",
    "    sess_ephys = (acquisition.Session * subject.Subject * behavior_analysis.SessionTrainingStatus ) & 'task_protocol LIKE \"%ephys%\"'\n",
    "    #               & 'task_protocol LIKE \"%biased%\"' & 'session_start_time < \"2019-09-30\"')\n",
    "else:\n",
    "    # Download only sessions that have the `brainwide` project + where there are ephys data and probe trajectories present\n",
    "    # (code snippet from Anne Urai's; see here: https://github.com/int-brain-lab/analysis/blob/master/python/neuron_yield.ipynb)\n",
    "    sess_ephys = acquisition.Session * subject.Subject * subject.SubjectLab \\\n",
    "                    * (acquisition.SessionProject\n",
    "                      & 'session_project = \"ibl_neuropixel_brainwide_01\"') \\\n",
    "                    * behavior_analysis.SessionTrainingStatus \\\n",
    "                    & ephys.ProbeInsertion & ephys.DefaultCluster.Metrics \n",
    "    sess_ephys = sess_ephys.fetch(format='frame').reset_index()\n",
    "\n",
    "df = pd.DataFrame(sess_ephys)"
   ]
  },
  {
   "cell_type": "markdown",
   "metadata": {},
   "source": [
    "The following code computes how many `ephys` sessions are considered `good_enough_for_brainwide_map`:\n",
    "- across *all* ephys sessions;\n",
    "- across the ephys sessions in the first-pass map for the repeated site."
   ]
  },
  {
   "cell_type": "code",
   "execution_count": 4,
   "metadata": {},
   "outputs": [
    {
     "name": "stdout",
     "output_type": "stream",
     "text": [
      "Total # of ephys sessions: 125\n",
      "Total # of sessions good_enough_for_brainwide_map: 82 (65.6 %)\n",
      "Total # of ephys sessions in first pass map, repeated site: 20\n",
      "Total # of sessions good_enough_for_brainwide_map in first pass map, repeated site: 9 (45.0 %)\n"
     ]
    }
   ],
   "source": [
    "session_dates = df['session_start_time'].apply(lambda x : x.strftime(\"%Y-%m-%d\"))\n",
    "\n",
    "# First, count all mice\n",
    "\n",
    "total = len(df.index)\n",
    "good_enough = np.sum(df['good_enough_for_brainwide_map'])\n",
    "prc = good_enough / total * 100\n",
    "print('Total # of ephys sessions: '+ str(total))\n",
    "print('Total # of sessions good_enough_for_brainwide_map: ' + str(good_enough) + ' (' + \"{:.1f}\".format(prc) + ' %)')\n",
    "\n",
    "# Now, consider only mice in the first pass map, repeated site\n",
    "\n",
    "count = 0\n",
    "for (mouse_name,session_date) in first_pass_map_repeated:\n",
    "    tmp = df[(df['subject_nickname']  == mouse_name) & (session_dates == session_date)]\n",
    "    count = count + np.sum(tmp['good_enough_for_brainwide_map'])\n",
    "    \n",
    "total = len(first_pass_map_repeated)\n",
    "good_enough = count\n",
    "prc = good_enough / total * 100\n",
    "print('Total # of ephys sessions in first pass map, repeated site: '+ str(total))\n",
    "print('Total # of sessions good_enough_for_brainwide_map in first pass map, repeated site: ' + str(good_enough) + ' (' + \"{:.1f}\".format(prc) + ' %)')\n"
   ]
  },
  {
   "cell_type": "markdown",
   "metadata": {},
   "source": [
    "The following code computes how many sessions are required for a mouse to reach certain levels of training or protocols, in particular:\n",
    "- from `trained` status to `biased` protocol\n",
    "- from `biased` protocol to `ready4ephys` status"
   ]
  },
  {
   "cell_type": "code",
   "execution_count": 5,
   "metadata": {},
   "outputs": [],
   "source": [
    "mice_list = set(df['subject_nickname'])\n",
    "\n",
    "trained2biased = []\n",
    "biased2ready4ephys = []\n",
    "\n",
    "for mouse_name in mice_list:\n",
    "    subj_string = 'subject_nickname LIKE \"' + mouse_name + '\"'\n",
    "    sess_mouse = (acquisition.Session * subject.Subject * behavior_analysis.SessionTrainingStatus ) & subj_string\n",
    "    df1 = pd.DataFrame(sess_mouse)\n",
    "    \n",
    "    # Find first session of training\n",
    "    trained_start = np.argmax(df1['training_status'].apply(lambda x: 'trained' in x))\n",
    "    if 'trained' not in df1['training_status'][trained_start]:\n",
    "        trained_start = None\n",
    "        \n",
    "    # Find first session of biased protocol\n",
    "    biased_start = np.argmax(df1['task_protocol'].apply(lambda x: 'biased' in x))\n",
    "    if 'biased' not in df1['task_protocol'][biased_start]:\n",
    "        biased_start = None\n",
    "    \n",
    "    # Find first session of ephys\n",
    "    ready4ephys_start = np.argmax(df1['training_status'].apply(lambda x: 'ready4ephys' in x))\n",
    "    if 'ready4ephys' not in df1['training_status'][ready4ephys_start]:\n",
    "        ready4ephys_start = None\n",
    "    \n",
    "    if ready4ephys_start != None:\n",
    "        trained2biased.append(biased_start - trained_start)\n",
    "        biased2ready4ephys.append(ready4ephys_start - biased_start)\n",
    "    \n",
    "trained2biased = np.array(trained2biased)\n",
    "biased2ready4ephys = np.array(biased2ready4ephys)"
   ]
  },
  {
   "cell_type": "code",
   "execution_count": 6,
   "metadata": {},
   "outputs": [
    {
     "name": "stdout",
     "output_type": "stream",
     "text": [
      "# Mice: 28\n",
      "# Sessions from \"trained\" to \"biased\": 4.25 +/- 4.85\n",
      "# Sessions from \"biased\" to \"ready4ephys\": 7.18 +/- 5.09\n"
     ]
    }
   ],
   "source": [
    "flag = trained2biased > 0\n",
    "print('# Mice: ' + str(np.sum(flag)))\n",
    "print('# Sessions from \"trained\" to \"biased\": ' + \"{:.2f}\".format(np.mean(trained2biased[flag])) + ' +/- '+ \"{:.2f}\".format(np.std(trained2biased[flag])))\n",
    "print('# Sessions from \"biased\" to \"ready4ephys\": ' + \"{:.2f}\".format(np.mean(biased2ready4ephys[flag])) + ' +/- '+ \"{:.2f}\".format(np.std(biased2ready4ephys[flag])))"
   ]
  },
  {
   "cell_type": "code",
   "execution_count": null,
   "metadata": {},
   "outputs": [],
   "source": []
  }
 ],
 "metadata": {
  "kernelspec": {
   "display_name": "Python 3",
   "language": "python",
   "name": "python3"
  },
  "language_info": {
   "codemirror_mode": {
    "name": "ipython",
    "version": 3
   },
   "file_extension": ".py",
   "mimetype": "text/x-python",
   "name": "python",
   "nbconvert_exporter": "python",
   "pygments_lexer": "ipython3",
   "version": "3.7.7"
  }
 },
 "nbformat": 4,
 "nbformat_minor": 2
}
