{
 "cells": [
  {
   "cell_type": "markdown",
   "metadata": {},
   "source": [
    "This script performs analyses to check how many mice pass the currenty set criterion for ephys."
   ]
  },
  {
   "cell_type": "code",
   "execution_count": 2,
   "metadata": {},
   "outputs": [
    {
     "name": "stdout",
     "output_type": "stream",
     "text": [
      "Connecting lacerbi@datajoint.internationalbrainlab.org:3306\n"
     ]
    }
   ],
   "source": [
    "import datajoint as dj\n",
    "dj.config['database.host'] = 'datajoint.internationalbrainlab.org'\n",
    "\n",
    "from ibl_pipeline import subject, acquisition, action, behavior, reference, data\n",
    "from ibl_pipeline.analyses.behavior import PsychResults, SessionTrainingStatus\n",
    "from ibl_pipeline.utils import psychofit as psy\n",
    "from ibl_pipeline.analyses import behavior as behavior_analysis\n",
    "\n",
    "import numpy as np\n",
    "import matplotlib.pyplot as plt\n",
    "import pandas as pd"
   ]
  },
  {
   "cell_type": "code",
   "execution_count": 56,
   "metadata": {},
   "outputs": [],
   "source": [
    "sess_ephys = (acquisition.Session * subject.Subject * behavior_analysis.SessionTrainingStatus ) & 'task_protocol LIKE \"%ephys%\"'\n",
    "#               & 'task_protocol LIKE \"%biased%\"' & 'session_start_time < \"2019-09-30\"')\n",
    "\n",
    "first_pass_map_repeated = [('ZM_2241','2020-01-30'),('CSHL049','2020-01-08'),('CSHL047','2020-01-20'),('CSHL051','2020-02-05'),\n",
    "                  ('KS023','2019-12-10'),('KS020','2020-02-07'),('CSHL054','2020-02-12'),('SWC_023','2020-02-13'),\n",
    "                  ('NYU-12','2020-01-22'),('ibl_witten_13','2019-12-03'),('ibl_witten_14','2019-12-11'),('SWC_014','2019-12-10'),\n",
    "                  ('CSHL052','2020-02-21'),('CSHL045','2020-02-25'),('DY_009','2020-02-27'),('NYU-11','2020-02-20'),\n",
    "                  ('DY_008','2020-03-03'),('CSHL059','2020-03-06'),('DY_013','2020-03-07')]\n",
    "\n",
    "df = pd.DataFrame(sess_ephys)"
   ]
  },
  {
   "cell_type": "code",
   "execution_count": 113,
   "metadata": {},
   "outputs": [
    {
     "name": "stdout",
     "output_type": "stream",
     "text": [
      "Total # of ephys sessions: 200\n",
      "Total # of sessions good_enough_for_brainwide_map: 114 (57.0 %)\n",
      "Total # of ephys sessions in first pass map, repeated site: 19\n",
      "Total # of sessions good_enough_for_brainwide_map in first pass map, repeated site: 10 (52.6 %)\n"
     ]
    }
   ],
   "source": [
    "session_dates = df['session_start_time'].apply(lambda x : x.strftime(\"%Y-%m-%d\"))\n",
    "\n",
    "# First, count all mice\n",
    "\n",
    "total = len(df.index)\n",
    "good_enough = np.sum(df['good_enough_for_brainwide_map'])\n",
    "prc = good_enough / total * 100\n",
    "print('Total # of ephys sessions: '+ str(total))\n",
    "print('Total # of sessions good_enough_for_brainwide_map: ' + str(good_enough) + ' (' + \"{:.1f}\".format(prc) + ' %)')\n",
    "\n",
    "# Now, consider only mice in the first pass map, repeated site\n",
    "\n",
    "count = 0\n",
    "for (mouse_name,session_date) in first_pass_map:\n",
    "    tmp = df[(df['subject_nickname']  == mouse_name) & (session_dates == session_date)]\n",
    "    count = count + np.sum(tmp['good_enough_for_brainwide_map'])\n",
    "    \n",
    "total = len(first_pass_map_repeated)\n",
    "good_enough = count\n",
    "prc = good_enough / total * 100\n",
    "print('Total # of ephys sessions in first pass map, repeated site: '+ str(total))\n",
    "print('Total # of sessions good_enough_for_brainwide_map in first pass map, repeated site: ' + str(good_enough) + ' (' + \"{:.1f}\".format(prc) + ' %)')\n"
   ]
  },
  {
   "cell_type": "code",
   "execution_count": 88,
   "metadata": {},
   "outputs": [],
   "source": [
    "\n",
    "    \n"
   ]
  },
  {
   "cell_type": "code",
   "execution_count": null,
   "metadata": {},
   "outputs": [],
   "source": []
  }
 ],
 "metadata": {
  "kernelspec": {
   "display_name": "Python 3",
   "language": "python",
   "name": "python3"
  },
  "language_info": {
   "codemirror_mode": {
    "name": "ipython",
    "version": 3
   },
   "file_extension": ".py",
   "mimetype": "text/x-python",
   "name": "python",
   "nbconvert_exporter": "python",
   "pygments_lexer": "ipython3",
   "version": "3.7.4"
  }
 },
 "nbformat": 4,
 "nbformat_minor": 2
}
