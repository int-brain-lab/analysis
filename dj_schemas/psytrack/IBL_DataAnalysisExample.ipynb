{
 "cells": [
  {
   "cell_type": "code",
   "execution_count": null,
   "metadata": {},
   "outputs": [],
   "source": [
    "%matplotlib inline\n",
    "%load_ext autoreload\n",
    "%autoreload 2\n",
    "\n",
    "import numpy as np\n",
    "from matplotlib import pyplot as plt\n",
    "import seaborn as sns"
   ]
  },
  {
   "cell_type": "markdown",
   "metadata": {},
   "source": [
    "### Grab IBL data from FlatIron server"
   ]
  },
  {
   "cell_type": "code",
   "execution_count": null,
   "metadata": {
    "scrolled": false
   },
   "outputs": [],
   "source": [
    "# Must be in ibllibenv to access\n",
    "from oneibl.one import ONE\n",
    "one = ONE()\n",
    "\n",
    "date_range = ['2018-01-01','2019-05-30']\n",
    "subjects = ['CSHL_003','CSHL_005','CSHL_007','IBL-T1','IBL-T4','ibl_witten_04','ibl_witten_05', 'IBL_10', 'IBL_13']\n",
    "var_extract = ['_ibl_trials.feedbackType', '_ibl_trials.choice', '_ibl_trials.contrastLeft',\n",
    "               '_ibl_trials.contrastRight', '_ibl_trials.included', '_ibl_trials.probabilityLeft']\n",
    "\n",
    "for s in subjects:\n",
    "    eids = one.search(subjects=s, date_range=date_range)\n",
    "\n",
    "    for eid in eids:\n",
    "        one.load(eid, dataset_types=var_extract)"
   ]
  },
  {
   "cell_type": "markdown",
   "metadata": {},
   "source": [
    "### Process Flatiron data"
   ]
  },
  {
   "cell_type": "code",
   "execution_count": null,
   "metadata": {},
   "outputs": [],
   "source": [
    "from PBups.IBL_Data_Processing import getAllData_IBL\n",
    "\n",
    "sourceDir = '/Users/nicholasroy/FlatIron/'\n",
    "mouse = 'CSHL_003'\n",
    "lab = \"churchlandlab\"\n",
    "outData = getAllData_IBL(sourceDir, mouse, forceNew=True, labs=lab)"
   ]
  },
  {
   "cell_type": "markdown",
   "metadata": {},
   "source": [
    "### Example Figure"
   ]
  },
  {
   "cell_type": "code",
   "execution_count": null,
   "metadata": {
    "code_folding": [],
    "scrolled": false
   },
   "outputs": [],
   "source": [
    "### Define a custom function for plotting weights for the manuscript\n",
    "### A generally more flexible version of plotting is available in PsyTrack as:\n",
    "###    from psytrack.plot.analysisFunctions import makeWeightPlot\n",
    "\n",
    "def weightPlot_IBL(wMode, outData, weights, colors, zorder,\n",
    "                    START=0, END=0, errorbar=None, stimbias=None):\n",
    "    \n",
    "    ### Initialization\n",
    "    K, N = wMode.shape\n",
    "    \n",
    "    if START <0: START = N + START\n",
    "    if START > N: raise Exception(\"START > N : \" + str(START) + \", \" + str(N))\n",
    "    if END <=0: END = N + END\n",
    "    if END > N: END = N\n",
    "    if START >= END: raise Exception(\"START >= END : \" + str(START) + \", \" + str(END))\n",
    "    \n",
    "    # Some useful values to have around\n",
    "    maxval = 7.9 # largest magnitude of any weight across all 3 training periods\n",
    "    cumdays = np.cumsum(outData['dayLength'])\n",
    "    myrange = np.arange(START,END)\n",
    "\n",
    "    ##### Plotting |\n",
    "    #####----------+\n",
    "    plt.figure(figsize=(7.5,3))\n",
    "    \n",
    "    labels = []\n",
    "    for j in sorted(weights.keys()):\n",
    "        labels += [j]*weights[j]\n",
    "\n",
    "    for i, w in enumerate(labels):\n",
    "\n",
    "        plt.plot(wMode[i], lw=1.5, alpha=0.8, linestyle='-', c=colors[w], zorder=zorder[w])\n",
    "\n",
    "        # Plot errorbars on weights if option is passed\n",
    "        if errorbar is not None:\n",
    "            plt.fill_between(np.arange(len(wMode[i])), wMode[i]-2*errorbar[i], wMode[i]+2*errorbar[i], \n",
    "                             facecolor=colors[w], zorder=zorder[w], alpha=0.2)\n",
    "\n",
    "    # Plot vertical session lines + write text if enough space and option passed\n",
    "    for i in range(len(cumdays)):\n",
    "        start = cumdays[i-1] * int(i!=0)\n",
    "        end = cumdays[i]\n",
    "        plt.axvline(start, color='black', linestyle = '-', lw=0.5, alpha=0.5, zorder=0)\n",
    "        \n",
    "    if stimbias:\n",
    "        fc = {0.5 : 'None', 0.2 : colors['sR'], 0.8 : colors['sL']}\n",
    "        probL = outData['probL']\n",
    "        i = START\n",
    "        while i < END:\n",
    "            _start = i\n",
    "            while i+1 < END and np.linalg.norm(probL[i] - probL[i+1]) < 0.0001: i+=1\n",
    "            plt.axvspan(_start, i+1, facecolor=fc[probL[_start]], alpha=0.2, edgecolor=None)\n",
    "            i += 1\n",
    "\n",
    "    plt.axhline(0, color=\"black\", linestyle=\"--\", alpha=0.5, zorder=0)\n",
    "    plt.ylim(-maxval,maxval); plt.xlim(START,END)\n",
    "#     plt.xlabel(\"Trial #\"); plt.ylabel(\"Weights\")\n",
    "    plt.gca().set_yticks(np.arange(-int(maxval)+1, int(maxval)+1,2))\n"
   ]
  },
  {
   "cell_type": "markdown",
   "metadata": {},
   "source": [
    "### Early Blocks Plot\n",
    "\n",
    "CSHL_003 day 03-21 to 03-23, p=3.5"
   ]
  },
  {
   "cell_type": "code",
   "execution_count": null,
   "metadata": {},
   "outputs": [],
   "source": [
    "from psytrack.hyperOpt import hyperOpt\n",
    "from psytrack.helper.helperFunctions import trim\n",
    "from psytrack.helper.invBlkTriDiag import invDiagHess\n",
    "\n",
    "### Collect data from manually determined training period\n",
    "_start  = np.where(outData['date'] >= '2019-03-21')[0][0]\n",
    "_end    = np.where(outData['date'] >= '2019-03-23')[0][0]\n",
    "new_dat = trim(outData, START=_start, END=_end)\n",
    "\n",
    "# Hardcode random trials where probL != 0.5 before bias begins to 0.5\n",
    "new_dat['probL'][:np.where(new_dat['date'] >= '2019-03-22')[0][0]] = 0.5\n",
    "\n",
    "### Compute\n",
    "weights = {'bias' : 1, 'sL' : 1, 'sR' : 1}\n",
    "K = np.sum([weights[i] for i in weights.keys()])\n",
    "hyper_guess = {\n",
    " 'sigma'   : [2**-5]*K,\n",
    " 'sigInit' : 2**5,\n",
    " 'sigDay'  : [2**-5]*K\n",
    "  }\n",
    "optList = ['sigma','sigDay']\n",
    "\n",
    "hyp, evd, wMode, hess = hyperOpt(new_dat, hyper_guess, weights, optList)\n",
    "\n",
    "W_std = np.sqrt(invDiagHess(hess)).reshape(K,-1)\n",
    "\n",
    "dat = {'hyp' : hyp, 'evd' : evd, 'wMode' : wMode, 'W_std' : W_std,\n",
    "       'weights' : weights, 'new_dat' : new_dat}"
   ]
  },
  {
   "cell_type": "code",
   "execution_count": null,
   "metadata": {},
   "outputs": [],
   "source": [
    "# Set default colormap (used by IBL)\n",
    "cmap = plt.get_cmap('vlag') #vlag0 = #2369bd; vlag1 = #a9373b\n",
    "colors = {'bias' : '#FAA61A', \n",
    "          's1' : cmap(1.0), 's2' : cmap(0.0), \n",
    "          'sR' : cmap(1.0), 'sL' : cmap(0.0),\n",
    "          'c' : '#59C3C3', 'h' : '#9593D9', 's_avg' : '#99CC66'}\n",
    "zorder = {'bias' : 2, \n",
    "          'sR' : 3, 'sL' : 3,\n",
    "          'c' : 1, 'h' : 1, 's_avg' : 1}\n",
    "\n",
    "weightPlot_IBL(dat['wMode'], dat['new_dat'], dat['weights'], colors, zorder,\n",
    "               START=0, END=0, errorbar=dat['W_std'], stimbias=True)"
   ]
  },
  {
   "cell_type": "code",
   "execution_count": null,
   "metadata": {},
   "outputs": [],
   "source": []
  }
 ],
 "metadata": {
  "kernelspec": {
   "display_name": "Python 3",
   "language": "python",
   "name": "python3"
  },
  "language_info": {
   "codemirror_mode": {
    "name": "ipython",
    "version": 3
   },
   "file_extension": ".py",
   "mimetype": "text/x-python",
   "name": "python",
   "nbconvert_exporter": "python",
   "pygments_lexer": "ipython3",
   "version": "3.7.3"
  },
  "notify_time": "30",
  "varInspector": {
   "cols": {
    "lenName": 16,
    "lenType": 16,
    "lenVar": 40
   },
   "kernels_config": {
    "python": {
     "delete_cmd_postfix": "",
     "delete_cmd_prefix": "del ",
     "library": "var_list.py",
     "varRefreshCmd": "print(var_dic_list())"
    },
    "r": {
     "delete_cmd_postfix": ") ",
     "delete_cmd_prefix": "rm(",
     "library": "var_list.r",
     "varRefreshCmd": "cat(var_dic_list()) "
    }
   },
   "types_to_exclude": [
    "module",
    "function",
    "builtin_function_or_method",
    "instance",
    "_Feature"
   ],
   "window_display": false
  }
 },
 "nbformat": 4,
 "nbformat_minor": 2
}
