{
 "cells": [
  {
   "cell_type": "code",
   "execution_count": null,
   "metadata": {},
   "outputs": [],
   "source": [
    "\"\"\"\n",
    "PsyTrack to get time-varying psychophysical weights for each subject over learning\n",
    "From: https://github.com/nicholas-roy/psytrack by Nick Roy and Jonathan Pillow\n",
    "Ported to datajoint by Anne Urai, CSHL, 2020\n",
    "\"\"\"\n",
    "\n",
    "import pandas as pd\n",
    "import numpy as np\n",
    "import sys, os, time\n",
    "import datajoint as dj\n",
    "from IPython import embed as shell # for debugging\n",
    "import matplotlib.pyplot as plt\n",
    "\n",
    "# import wrappers etc\n",
    "from ibl_pipeline import subject, behavior, acquisition\n",
    "\n",
    "# install this from https://github.com/nicholas-roy/psytrack\n",
    "import psytrack\n",
    "\n",
    "# make a new custom schema for this\n",
    "schema = dj.schema('group_shared_anneurai_psytrack')"
   ]
  },
  {
   "cell_type": "code",
   "execution_count": null,
   "metadata": {},
   "outputs": [],
   "source": [
    "# grab all trials for this subject & session\n",
    "key = subject.Subject & 'subject_nickname = \"CSHL_003\"'\n",
    "trials = key * (behavior.TrialSet.Trial & 'trial_response_choice != \"No Go\"') \\\n",
    "            * acquisition.Session.proj(session_date='DATE(session_start_time)')\n",
    "\n",
    "stim_left, stim_right, resp, feedback, session_date = trials.fetch(\n",
    "    'trial_stim_contrast_left',\n",
    "    'trial_stim_contrast_right',\n",
    "    'trial_response_choice',\n",
    "    'trial_feedback_type', \n",
    "    'session_date')\n",
    "\n",
    "# convert to psytrack format\n",
    "D = {'y':pd.DataFrame(resp)[0].replace({'CCW': 2, 'No Go': np.nan, 'CW': 1}).values}\n",
    "\n",
    "# inputs is itself another dictionary, containing arbitrary keys. \n",
    "# Each of these keys represents a potential input into the model and must be a \n",
    "# 2D array of shape $(N, M)$ where $N$ is the number of trials. \n",
    "# The number of columns $M$ is arbitrary, and the $i^{th}$ column is \n",
    "# typically used to encode information from $i$ time steps previous.\n",
    "p = 5\n",
    "D.update({'inputs':{'contrast_left':np.array(np.tanh(p*stim_left)/np.tanh(p))[:, None],\n",
    "                    'contrast_right':np.array(np.tanh(p*stim_right)/np.tanh(p))[:, None]}})\n",
    "# grab the day boundaries to estimate that sigDay\n",
    "D.update({'dayLength':np.array(pd.DataFrame({'session_date':session_date}).groupby(['session_date']).size())})\n",
    "\n",
    "# for now, take only the beginning\n",
    "D = psytrack.trim(D, END=70000)\n",
    "np.shape(D['y'])"
   ]
  },
  {
   "cell_type": "code",
   "execution_count": null,
   "metadata": {},
   "outputs": [],
   "source": [
    "# specify the weights to fit and hyperparameters\n",
    "weights = {'bias' : 1, 'contrast_left' : 1, 'contrast_right' : 1}\n",
    "K = np.sum([weights[i] for i in weights.keys()])\n",
    "hyper_guess = {'sigma': [2**-5]*K,'sigInit' : 2**5, 'sigDay': [2**-5]*K}\n",
    "optList = ['sigma']\n",
    "\n",
    "# FIT THE ACTUAL MODEL\n",
    "t = time.time()\n",
    "hyp, evd, wMode, hess_info = psytrack.hyperOpt(D, hyper_guess, weights, optList)\n",
    "elapsed = time.time() - t\n",
    "print('Elapsed time %fs'%elapsed)"
   ]
  },
  {
   "cell_type": "code",
   "execution_count": null,
   "metadata": {},
   "outputs": [],
   "source": [
    "plt.plot(wMode[0])\n",
    "plt.plot(wMode[1])\n",
    "plt.plot(wMode[2])"
   ]
  }
 ],
 "metadata": {
  "kernelspec": {
   "display_name": "Python [conda env:djenv] *",
   "language": "python",
   "name": "conda-env-djenv-py"
  },
  "language_info": {
   "codemirror_mode": {
    "name": "ipython",
    "version": 3
   },
   "file_extension": ".py",
   "mimetype": "text/x-python",
   "name": "python",
   "nbconvert_exporter": "python",
   "pygments_lexer": "ipython3",
   "version": "3.7.6"
  }
 },
 "nbformat": 4,
 "nbformat_minor": 4
}
